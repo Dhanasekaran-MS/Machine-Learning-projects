{
 "cells": [
  {
   "cell_type": "code",
   "execution_count": 1,
   "id": "5f866277",
   "metadata": {},
   "outputs": [],
   "source": [
    "import pandas as pd\n",
    "import numpy as np\n",
    "from sklearn import preprocessing"
   ]
  },
  {
   "cell_type": "code",
   "execution_count": 2,
   "id": "f9ed3e13",
   "metadata": {},
   "outputs": [],
   "source": [
    "df=pd.read_csv('loan_approval_dataset.csv')"
   ]
  },
  {
   "cell_type": "code",
   "execution_count": 3,
   "id": "59a0c02b",
   "metadata": {},
   "outputs": [
    {
     "data": {
      "text/html": [
       "<div>\n",
       "<style scoped>\n",
       "    .dataframe tbody tr th:only-of-type {\n",
       "        vertical-align: middle;\n",
       "    }\n",
       "\n",
       "    .dataframe tbody tr th {\n",
       "        vertical-align: top;\n",
       "    }\n",
       "\n",
       "    .dataframe thead th {\n",
       "        text-align: right;\n",
       "    }\n",
       "</style>\n",
       "<table border=\"1\" class=\"dataframe\">\n",
       "  <thead>\n",
       "    <tr style=\"text-align: right;\">\n",
       "      <th></th>\n",
       "      <th>Loan_id</th>\n",
       "      <th>No_of_dependents</th>\n",
       "      <th>Education</th>\n",
       "      <th>self_employed</th>\n",
       "      <th>income_annum</th>\n",
       "      <th>loan_amount</th>\n",
       "      <th>loan_term</th>\n",
       "      <th>cibil_score</th>\n",
       "      <th>residential_assets_value</th>\n",
       "      <th>commercial_assets_value</th>\n",
       "      <th>luxury_assets_value</th>\n",
       "      <th>bank_asset_value</th>\n",
       "      <th>loan_status</th>\n",
       "    </tr>\n",
       "  </thead>\n",
       "  <tbody>\n",
       "    <tr>\n",
       "      <th>0</th>\n",
       "      <td>1</td>\n",
       "      <td>2</td>\n",
       "      <td>Graduate</td>\n",
       "      <td>No</td>\n",
       "      <td>9600000</td>\n",
       "      <td>29900000</td>\n",
       "      <td>12</td>\n",
       "      <td>778</td>\n",
       "      <td>2400000</td>\n",
       "      <td>17600000</td>\n",
       "      <td>22700000</td>\n",
       "      <td>8000000</td>\n",
       "      <td>Approved</td>\n",
       "    </tr>\n",
       "    <tr>\n",
       "      <th>1</th>\n",
       "      <td>2</td>\n",
       "      <td>0</td>\n",
       "      <td>Not Graduate</td>\n",
       "      <td>Yes</td>\n",
       "      <td>4100000</td>\n",
       "      <td>12200000</td>\n",
       "      <td>8</td>\n",
       "      <td>417</td>\n",
       "      <td>2700000</td>\n",
       "      <td>2200000</td>\n",
       "      <td>8800000</td>\n",
       "      <td>3300000</td>\n",
       "      <td>Rejected</td>\n",
       "    </tr>\n",
       "    <tr>\n",
       "      <th>2</th>\n",
       "      <td>3</td>\n",
       "      <td>3</td>\n",
       "      <td>Graduate</td>\n",
       "      <td>No</td>\n",
       "      <td>9100000</td>\n",
       "      <td>29700000</td>\n",
       "      <td>20</td>\n",
       "      <td>506</td>\n",
       "      <td>7100000</td>\n",
       "      <td>4500000</td>\n",
       "      <td>33300000</td>\n",
       "      <td>12800000</td>\n",
       "      <td>Rejected</td>\n",
       "    </tr>\n",
       "    <tr>\n",
       "      <th>3</th>\n",
       "      <td>4</td>\n",
       "      <td>3</td>\n",
       "      <td>Graduate</td>\n",
       "      <td>No</td>\n",
       "      <td>8200000</td>\n",
       "      <td>30700000</td>\n",
       "      <td>8</td>\n",
       "      <td>467</td>\n",
       "      <td>18200000</td>\n",
       "      <td>3300000</td>\n",
       "      <td>23300000</td>\n",
       "      <td>7900000</td>\n",
       "      <td>Rejected</td>\n",
       "    </tr>\n",
       "    <tr>\n",
       "      <th>4</th>\n",
       "      <td>5</td>\n",
       "      <td>5</td>\n",
       "      <td>Not Graduate</td>\n",
       "      <td>Yes</td>\n",
       "      <td>9800000</td>\n",
       "      <td>24200000</td>\n",
       "      <td>20</td>\n",
       "      <td>382</td>\n",
       "      <td>12400000</td>\n",
       "      <td>8200000</td>\n",
       "      <td>29400000</td>\n",
       "      <td>5000000</td>\n",
       "      <td>Rejected</td>\n",
       "    </tr>\n",
       "    <tr>\n",
       "      <th>...</th>\n",
       "      <td>...</td>\n",
       "      <td>...</td>\n",
       "      <td>...</td>\n",
       "      <td>...</td>\n",
       "      <td>...</td>\n",
       "      <td>...</td>\n",
       "      <td>...</td>\n",
       "      <td>...</td>\n",
       "      <td>...</td>\n",
       "      <td>...</td>\n",
       "      <td>...</td>\n",
       "      <td>...</td>\n",
       "      <td>...</td>\n",
       "    </tr>\n",
       "    <tr>\n",
       "      <th>4264</th>\n",
       "      <td>4265</td>\n",
       "      <td>5</td>\n",
       "      <td>Graduate</td>\n",
       "      <td>Yes</td>\n",
       "      <td>1000000</td>\n",
       "      <td>2300000</td>\n",
       "      <td>12</td>\n",
       "      <td>317</td>\n",
       "      <td>2800000</td>\n",
       "      <td>500000</td>\n",
       "      <td>3300000</td>\n",
       "      <td>800000</td>\n",
       "      <td>Rejected</td>\n",
       "    </tr>\n",
       "    <tr>\n",
       "      <th>4265</th>\n",
       "      <td>4266</td>\n",
       "      <td>0</td>\n",
       "      <td>Not Graduate</td>\n",
       "      <td>Yes</td>\n",
       "      <td>3300000</td>\n",
       "      <td>11300000</td>\n",
       "      <td>20</td>\n",
       "      <td>559</td>\n",
       "      <td>4200000</td>\n",
       "      <td>2900000</td>\n",
       "      <td>11000000</td>\n",
       "      <td>1900000</td>\n",
       "      <td>Approved</td>\n",
       "    </tr>\n",
       "    <tr>\n",
       "      <th>4266</th>\n",
       "      <td>4267</td>\n",
       "      <td>2</td>\n",
       "      <td>Not Graduate</td>\n",
       "      <td>No</td>\n",
       "      <td>6500000</td>\n",
       "      <td>23900000</td>\n",
       "      <td>18</td>\n",
       "      <td>457</td>\n",
       "      <td>1200000</td>\n",
       "      <td>12400000</td>\n",
       "      <td>18100000</td>\n",
       "      <td>7300000</td>\n",
       "      <td>Rejected</td>\n",
       "    </tr>\n",
       "    <tr>\n",
       "      <th>4267</th>\n",
       "      <td>4268</td>\n",
       "      <td>1</td>\n",
       "      <td>Not Graduate</td>\n",
       "      <td>No</td>\n",
       "      <td>4100000</td>\n",
       "      <td>12800000</td>\n",
       "      <td>8</td>\n",
       "      <td>780</td>\n",
       "      <td>8200000</td>\n",
       "      <td>700000</td>\n",
       "      <td>14100000</td>\n",
       "      <td>5800000</td>\n",
       "      <td>Approved</td>\n",
       "    </tr>\n",
       "    <tr>\n",
       "      <th>4268</th>\n",
       "      <td>4269</td>\n",
       "      <td>1</td>\n",
       "      <td>Graduate</td>\n",
       "      <td>No</td>\n",
       "      <td>9200000</td>\n",
       "      <td>29700000</td>\n",
       "      <td>10</td>\n",
       "      <td>607</td>\n",
       "      <td>17800000</td>\n",
       "      <td>11800000</td>\n",
       "      <td>35700000</td>\n",
       "      <td>12000000</td>\n",
       "      <td>Approved</td>\n",
       "    </tr>\n",
       "  </tbody>\n",
       "</table>\n",
       "<p>4269 rows × 13 columns</p>\n",
       "</div>"
      ],
      "text/plain": [
       "      Loan_id  No_of_dependents      Education self_employed  income_annum  \\\n",
       "0           1                 2       Graduate            No       9600000   \n",
       "1           2                 0   Not Graduate           Yes       4100000   \n",
       "2           3                 3       Graduate            No       9100000   \n",
       "3           4                 3       Graduate            No       8200000   \n",
       "4           5                 5   Not Graduate           Yes       9800000   \n",
       "...       ...               ...            ...           ...           ...   \n",
       "4264     4265                 5       Graduate           Yes       1000000   \n",
       "4265     4266                 0   Not Graduate           Yes       3300000   \n",
       "4266     4267                 2   Not Graduate            No       6500000   \n",
       "4267     4268                 1   Not Graduate            No       4100000   \n",
       "4268     4269                 1       Graduate            No       9200000   \n",
       "\n",
       "      loan_amount  loan_term  cibil_score  residential_assets_value  \\\n",
       "0        29900000         12          778                   2400000   \n",
       "1        12200000          8          417                   2700000   \n",
       "2        29700000         20          506                   7100000   \n",
       "3        30700000          8          467                  18200000   \n",
       "4        24200000         20          382                  12400000   \n",
       "...           ...        ...          ...                       ...   \n",
       "4264      2300000         12          317                   2800000   \n",
       "4265     11300000         20          559                   4200000   \n",
       "4266     23900000         18          457                   1200000   \n",
       "4267     12800000          8          780                   8200000   \n",
       "4268     29700000         10          607                  17800000   \n",
       "\n",
       "      commercial_assets_value  luxury_assets_value  bank_asset_value  \\\n",
       "0                    17600000             22700000           8000000   \n",
       "1                     2200000              8800000           3300000   \n",
       "2                     4500000             33300000          12800000   \n",
       "3                     3300000             23300000           7900000   \n",
       "4                     8200000             29400000           5000000   \n",
       "...                       ...                  ...               ...   \n",
       "4264                   500000              3300000            800000   \n",
       "4265                  2900000             11000000           1900000   \n",
       "4266                 12400000             18100000           7300000   \n",
       "4267                   700000             14100000           5800000   \n",
       "4268                 11800000             35700000          12000000   \n",
       "\n",
       "     loan_status  \n",
       "0       Approved  \n",
       "1       Rejected  \n",
       "2       Rejected  \n",
       "3       Rejected  \n",
       "4       Rejected  \n",
       "...          ...  \n",
       "4264    Rejected  \n",
       "4265    Approved  \n",
       "4266    Rejected  \n",
       "4267    Approved  \n",
       "4268    Approved  \n",
       "\n",
       "[4269 rows x 13 columns]"
      ]
     },
     "execution_count": 3,
     "metadata": {},
     "output_type": "execute_result"
    }
   ],
   "source": [
    "df"
   ]
  },
  {
   "cell_type": "code",
   "execution_count": 4,
   "id": "382de643",
   "metadata": {},
   "outputs": [
    {
     "name": "stdout",
     "output_type": "stream",
     "text": [
      "<class 'pandas.core.frame.DataFrame'>\n",
      "RangeIndex: 4269 entries, 0 to 4268\n",
      "Data columns (total 13 columns):\n",
      " #   Column                    Non-Null Count  Dtype \n",
      "---  ------                    --------------  ----- \n",
      " 0   Loan_id                   4269 non-null   int64 \n",
      " 1   No_of_dependents          4269 non-null   int64 \n",
      " 2   Education                 4269 non-null   object\n",
      " 3   self_employed             4269 non-null   object\n",
      " 4   income_annum              4269 non-null   int64 \n",
      " 5   loan_amount               4269 non-null   int64 \n",
      " 6   loan_term                 4269 non-null   int64 \n",
      " 7   cibil_score               4269 non-null   int64 \n",
      " 8   residential_assets_value  4269 non-null   int64 \n",
      " 9   commercial_assets_value   4269 non-null   int64 \n",
      " 10  luxury_assets_value       4269 non-null   int64 \n",
      " 11  bank_asset_value          4269 non-null   int64 \n",
      " 12  loan_status               4269 non-null   object\n",
      "dtypes: int64(10), object(3)\n",
      "memory usage: 433.7+ KB\n"
     ]
    }
   ],
   "source": [
    "df.info()"
   ]
  },
  {
   "cell_type": "code",
   "execution_count": 5,
   "id": "dcac593f",
   "metadata": {},
   "outputs": [
    {
     "data": {
      "text/plain": [
       "Loan_id                     0\n",
       "No_of_dependents            0\n",
       "Education                   0\n",
       "self_employed               0\n",
       "income_annum                0\n",
       "loan_amount                 0\n",
       "loan_term                   0\n",
       "cibil_score                 0\n",
       "residential_assets_value    0\n",
       "commercial_assets_value     0\n",
       "luxury_assets_value         0\n",
       "bank_asset_value            0\n",
       "loan_status                 0\n",
       "dtype: int64"
      ]
     },
     "execution_count": 5,
     "metadata": {},
     "output_type": "execute_result"
    }
   ],
   "source": [
    "df.isnull().sum()"
   ]
  },
  {
   "cell_type": "code",
   "execution_count": 6,
   "id": "20ca35e1",
   "metadata": {},
   "outputs": [
    {
     "data": {
      "text/html": [
       "<div>\n",
       "<style scoped>\n",
       "    .dataframe tbody tr th:only-of-type {\n",
       "        vertical-align: middle;\n",
       "    }\n",
       "\n",
       "    .dataframe tbody tr th {\n",
       "        vertical-align: top;\n",
       "    }\n",
       "\n",
       "    .dataframe thead th {\n",
       "        text-align: right;\n",
       "    }\n",
       "</style>\n",
       "<table border=\"1\" class=\"dataframe\">\n",
       "  <thead>\n",
       "    <tr style=\"text-align: right;\">\n",
       "      <th></th>\n",
       "      <th>Loan_id</th>\n",
       "      <th>No_of_dependents</th>\n",
       "      <th>income_annum</th>\n",
       "      <th>loan_amount</th>\n",
       "      <th>loan_term</th>\n",
       "      <th>cibil_score</th>\n",
       "      <th>residential_assets_value</th>\n",
       "      <th>commercial_assets_value</th>\n",
       "      <th>luxury_assets_value</th>\n",
       "      <th>bank_asset_value</th>\n",
       "    </tr>\n",
       "  </thead>\n",
       "  <tbody>\n",
       "    <tr>\n",
       "      <th>count</th>\n",
       "      <td>4269.000000</td>\n",
       "      <td>4269.000000</td>\n",
       "      <td>4.269000e+03</td>\n",
       "      <td>4.269000e+03</td>\n",
       "      <td>4269.000000</td>\n",
       "      <td>4269.000000</td>\n",
       "      <td>4.269000e+03</td>\n",
       "      <td>4.269000e+03</td>\n",
       "      <td>4.269000e+03</td>\n",
       "      <td>4.269000e+03</td>\n",
       "    </tr>\n",
       "    <tr>\n",
       "      <th>mean</th>\n",
       "      <td>2135.000000</td>\n",
       "      <td>2.498712</td>\n",
       "      <td>5.059124e+06</td>\n",
       "      <td>1.513345e+07</td>\n",
       "      <td>10.900445</td>\n",
       "      <td>599.936051</td>\n",
       "      <td>7.472617e+06</td>\n",
       "      <td>4.973155e+06</td>\n",
       "      <td>1.512631e+07</td>\n",
       "      <td>4.976692e+06</td>\n",
       "    </tr>\n",
       "    <tr>\n",
       "      <th>std</th>\n",
       "      <td>1232.498479</td>\n",
       "      <td>1.695910</td>\n",
       "      <td>2.806840e+06</td>\n",
       "      <td>9.043363e+06</td>\n",
       "      <td>5.709187</td>\n",
       "      <td>172.430401</td>\n",
       "      <td>6.503637e+06</td>\n",
       "      <td>4.388966e+06</td>\n",
       "      <td>9.103754e+06</td>\n",
       "      <td>3.250185e+06</td>\n",
       "    </tr>\n",
       "    <tr>\n",
       "      <th>min</th>\n",
       "      <td>1.000000</td>\n",
       "      <td>0.000000</td>\n",
       "      <td>2.000000e+05</td>\n",
       "      <td>3.000000e+05</td>\n",
       "      <td>2.000000</td>\n",
       "      <td>300.000000</td>\n",
       "      <td>-1.000000e+05</td>\n",
       "      <td>0.000000e+00</td>\n",
       "      <td>3.000000e+05</td>\n",
       "      <td>0.000000e+00</td>\n",
       "    </tr>\n",
       "    <tr>\n",
       "      <th>25%</th>\n",
       "      <td>1068.000000</td>\n",
       "      <td>1.000000</td>\n",
       "      <td>2.700000e+06</td>\n",
       "      <td>7.700000e+06</td>\n",
       "      <td>6.000000</td>\n",
       "      <td>453.000000</td>\n",
       "      <td>2.200000e+06</td>\n",
       "      <td>1.300000e+06</td>\n",
       "      <td>7.500000e+06</td>\n",
       "      <td>2.300000e+06</td>\n",
       "    </tr>\n",
       "    <tr>\n",
       "      <th>50%</th>\n",
       "      <td>2135.000000</td>\n",
       "      <td>3.000000</td>\n",
       "      <td>5.100000e+06</td>\n",
       "      <td>1.450000e+07</td>\n",
       "      <td>10.000000</td>\n",
       "      <td>600.000000</td>\n",
       "      <td>5.600000e+06</td>\n",
       "      <td>3.700000e+06</td>\n",
       "      <td>1.460000e+07</td>\n",
       "      <td>4.600000e+06</td>\n",
       "    </tr>\n",
       "    <tr>\n",
       "      <th>75%</th>\n",
       "      <td>3202.000000</td>\n",
       "      <td>4.000000</td>\n",
       "      <td>7.500000e+06</td>\n",
       "      <td>2.150000e+07</td>\n",
       "      <td>16.000000</td>\n",
       "      <td>748.000000</td>\n",
       "      <td>1.130000e+07</td>\n",
       "      <td>7.600000e+06</td>\n",
       "      <td>2.170000e+07</td>\n",
       "      <td>7.100000e+06</td>\n",
       "    </tr>\n",
       "    <tr>\n",
       "      <th>max</th>\n",
       "      <td>4269.000000</td>\n",
       "      <td>5.000000</td>\n",
       "      <td>9.900000e+06</td>\n",
       "      <td>3.950000e+07</td>\n",
       "      <td>20.000000</td>\n",
       "      <td>900.000000</td>\n",
       "      <td>2.910000e+07</td>\n",
       "      <td>1.940000e+07</td>\n",
       "      <td>3.920000e+07</td>\n",
       "      <td>1.470000e+07</td>\n",
       "    </tr>\n",
       "  </tbody>\n",
       "</table>\n",
       "</div>"
      ],
      "text/plain": [
       "           Loan_id  No_of_dependents  income_annum   loan_amount    loan_term  \\\n",
       "count  4269.000000       4269.000000  4.269000e+03  4.269000e+03  4269.000000   \n",
       "mean   2135.000000          2.498712  5.059124e+06  1.513345e+07    10.900445   \n",
       "std    1232.498479          1.695910  2.806840e+06  9.043363e+06     5.709187   \n",
       "min       1.000000          0.000000  2.000000e+05  3.000000e+05     2.000000   \n",
       "25%    1068.000000          1.000000  2.700000e+06  7.700000e+06     6.000000   \n",
       "50%    2135.000000          3.000000  5.100000e+06  1.450000e+07    10.000000   \n",
       "75%    3202.000000          4.000000  7.500000e+06  2.150000e+07    16.000000   \n",
       "max    4269.000000          5.000000  9.900000e+06  3.950000e+07    20.000000   \n",
       "\n",
       "       cibil_score  residential_assets_value  commercial_assets_value  \\\n",
       "count  4269.000000              4.269000e+03             4.269000e+03   \n",
       "mean    599.936051              7.472617e+06             4.973155e+06   \n",
       "std     172.430401              6.503637e+06             4.388966e+06   \n",
       "min     300.000000             -1.000000e+05             0.000000e+00   \n",
       "25%     453.000000              2.200000e+06             1.300000e+06   \n",
       "50%     600.000000              5.600000e+06             3.700000e+06   \n",
       "75%     748.000000              1.130000e+07             7.600000e+06   \n",
       "max     900.000000              2.910000e+07             1.940000e+07   \n",
       "\n",
       "       luxury_assets_value  bank_asset_value  \n",
       "count         4.269000e+03      4.269000e+03  \n",
       "mean          1.512631e+07      4.976692e+06  \n",
       "std           9.103754e+06      3.250185e+06  \n",
       "min           3.000000e+05      0.000000e+00  \n",
       "25%           7.500000e+06      2.300000e+06  \n",
       "50%           1.460000e+07      4.600000e+06  \n",
       "75%           2.170000e+07      7.100000e+06  \n",
       "max           3.920000e+07      1.470000e+07  "
      ]
     },
     "execution_count": 6,
     "metadata": {},
     "output_type": "execute_result"
    }
   ],
   "source": [
    "df.describe()"
   ]
  },
  {
   "cell_type": "code",
   "execution_count": 7,
   "id": "27d0a750-abe4-46cf-beb4-c54beb774554",
   "metadata": {},
   "outputs": [
    {
     "data": {
      "text/html": [
       "<div>\n",
       "<style scoped>\n",
       "    .dataframe tbody tr th:only-of-type {\n",
       "        vertical-align: middle;\n",
       "    }\n",
       "\n",
       "    .dataframe tbody tr th {\n",
       "        vertical-align: top;\n",
       "    }\n",
       "\n",
       "    .dataframe thead th {\n",
       "        text-align: right;\n",
       "    }\n",
       "</style>\n",
       "<table border=\"1\" class=\"dataframe\">\n",
       "  <thead>\n",
       "    <tr style=\"text-align: right;\">\n",
       "      <th></th>\n",
       "      <th>No_of_dependents</th>\n",
       "      <th>Education</th>\n",
       "      <th>self_employed</th>\n",
       "      <th>income_annum</th>\n",
       "      <th>loan_amount</th>\n",
       "      <th>loan_term</th>\n",
       "      <th>cibil_score</th>\n",
       "      <th>residential_assets_value</th>\n",
       "      <th>commercial_assets_value</th>\n",
       "      <th>luxury_assets_value</th>\n",
       "      <th>bank_asset_value</th>\n",
       "      <th>loan_status</th>\n",
       "    </tr>\n",
       "  </thead>\n",
       "  <tbody>\n",
       "    <tr>\n",
       "      <th>0</th>\n",
       "      <td>2</td>\n",
       "      <td>Graduate</td>\n",
       "      <td>No</td>\n",
       "      <td>9600000</td>\n",
       "      <td>29900000</td>\n",
       "      <td>12</td>\n",
       "      <td>778</td>\n",
       "      <td>2400000</td>\n",
       "      <td>17600000</td>\n",
       "      <td>22700000</td>\n",
       "      <td>8000000</td>\n",
       "      <td>Approved</td>\n",
       "    </tr>\n",
       "    <tr>\n",
       "      <th>1</th>\n",
       "      <td>0</td>\n",
       "      <td>Not Graduate</td>\n",
       "      <td>Yes</td>\n",
       "      <td>4100000</td>\n",
       "      <td>12200000</td>\n",
       "      <td>8</td>\n",
       "      <td>417</td>\n",
       "      <td>2700000</td>\n",
       "      <td>2200000</td>\n",
       "      <td>8800000</td>\n",
       "      <td>3300000</td>\n",
       "      <td>Rejected</td>\n",
       "    </tr>\n",
       "    <tr>\n",
       "      <th>2</th>\n",
       "      <td>3</td>\n",
       "      <td>Graduate</td>\n",
       "      <td>No</td>\n",
       "      <td>9100000</td>\n",
       "      <td>29700000</td>\n",
       "      <td>20</td>\n",
       "      <td>506</td>\n",
       "      <td>7100000</td>\n",
       "      <td>4500000</td>\n",
       "      <td>33300000</td>\n",
       "      <td>12800000</td>\n",
       "      <td>Rejected</td>\n",
       "    </tr>\n",
       "    <tr>\n",
       "      <th>3</th>\n",
       "      <td>3</td>\n",
       "      <td>Graduate</td>\n",
       "      <td>No</td>\n",
       "      <td>8200000</td>\n",
       "      <td>30700000</td>\n",
       "      <td>8</td>\n",
       "      <td>467</td>\n",
       "      <td>18200000</td>\n",
       "      <td>3300000</td>\n",
       "      <td>23300000</td>\n",
       "      <td>7900000</td>\n",
       "      <td>Rejected</td>\n",
       "    </tr>\n",
       "    <tr>\n",
       "      <th>4</th>\n",
       "      <td>5</td>\n",
       "      <td>Not Graduate</td>\n",
       "      <td>Yes</td>\n",
       "      <td>9800000</td>\n",
       "      <td>24200000</td>\n",
       "      <td>20</td>\n",
       "      <td>382</td>\n",
       "      <td>12400000</td>\n",
       "      <td>8200000</td>\n",
       "      <td>29400000</td>\n",
       "      <td>5000000</td>\n",
       "      <td>Rejected</td>\n",
       "    </tr>\n",
       "  </tbody>\n",
       "</table>\n",
       "</div>"
      ],
      "text/plain": [
       "   No_of_dependents      Education self_employed  income_annum  loan_amount  \\\n",
       "0                 2       Graduate            No       9600000     29900000   \n",
       "1                 0   Not Graduate           Yes       4100000     12200000   \n",
       "2                 3       Graduate            No       9100000     29700000   \n",
       "3                 3       Graduate            No       8200000     30700000   \n",
       "4                 5   Not Graduate           Yes       9800000     24200000   \n",
       "\n",
       "   loan_term  cibil_score  residential_assets_value  commercial_assets_value  \\\n",
       "0         12          778                   2400000                 17600000   \n",
       "1          8          417                   2700000                  2200000   \n",
       "2         20          506                   7100000                  4500000   \n",
       "3          8          467                  18200000                  3300000   \n",
       "4         20          382                  12400000                  8200000   \n",
       "\n",
       "   luxury_assets_value  bank_asset_value loan_status  \n",
       "0             22700000           8000000    Approved  \n",
       "1              8800000           3300000    Rejected  \n",
       "2             33300000          12800000    Rejected  \n",
       "3             23300000           7900000    Rejected  \n",
       "4             29400000           5000000    Rejected  "
      ]
     },
     "execution_count": 7,
     "metadata": {},
     "output_type": "execute_result"
    }
   ],
   "source": [
    "df=df.drop(columns='Loan_id', axis=1)\n",
    "df.head()"
   ]
  },
  {
   "cell_type": "code",
   "execution_count": 8,
   "id": "c6257c4b-810c-4927-9567-acf88bbcaa07",
   "metadata": {},
   "outputs": [],
   "source": [
    "df1 =df.copy()"
   ]
  },
  {
   "cell_type": "code",
   "execution_count": 9,
   "id": "06d6c30d",
   "metadata": {},
   "outputs": [
    {
     "data": {
      "text/plain": [
       "Education\n",
       " Graduate        2144\n",
       " Not Graduate    2125\n",
       "Name: count, dtype: int64"
      ]
     },
     "execution_count": 9,
     "metadata": {},
     "output_type": "execute_result"
    }
   ],
   "source": [
    "df.Education.value_counts()"
   ]
  },
  {
   "cell_type": "code",
   "execution_count": 10,
   "id": "c20d0e72",
   "metadata": {},
   "outputs": [
    {
     "data": {
      "text/plain": [
       "self_employed\n",
       " Yes    2150\n",
       " No     2119\n",
       "Name: count, dtype: int64"
      ]
     },
     "execution_count": 10,
     "metadata": {},
     "output_type": "execute_result"
    }
   ],
   "source": [
    "df.self_employed.value_counts()"
   ]
  },
  {
   "cell_type": "code",
   "execution_count": 11,
   "id": "cc51a89c",
   "metadata": {},
   "outputs": [
    {
     "data": {
      "text/plain": [
       "loan_status\n",
       " Approved    2656\n",
       " Rejected    1613\n",
       "Name: count, dtype: int64"
      ]
     },
     "execution_count": 11,
     "metadata": {},
     "output_type": "execute_result"
    }
   ],
   "source": [
    "df.loan_status.value_counts()"
   ]
  },
  {
   "cell_type": "code",
   "execution_count": 12,
   "id": "a9c34d82",
   "metadata": {},
   "outputs": [
    {
     "data": {
      "text/plain": [
       "array([0, 1])"
      ]
     },
     "execution_count": 12,
     "metadata": {},
     "output_type": "execute_result"
    }
   ],
   "source": [
    "label_encoder = preprocessing.LabelEncoder() \n",
    "df['Education']= label_encoder.fit_transform(df['Education'])\n",
    "df['Education'].unique()"
   ]
  },
  {
   "cell_type": "code",
   "execution_count": 13,
   "id": "23bd23bf",
   "metadata": {},
   "outputs": [
    {
     "data": {
      "text/plain": [
       "array([0, 1])"
      ]
     },
     "execution_count": 13,
     "metadata": {},
     "output_type": "execute_result"
    }
   ],
   "source": [
    "label_encoder = preprocessing.LabelEncoder() \n",
    "df['self_employed']= label_encoder.fit_transform(df['self_employed'])\n",
    "df['self_employed'].unique()"
   ]
  },
  {
   "cell_type": "code",
   "execution_count": 14,
   "id": "5559188a",
   "metadata": {},
   "outputs": [
    {
     "data": {
      "text/plain": [
       "array([0, 1])"
      ]
     },
     "execution_count": 14,
     "metadata": {},
     "output_type": "execute_result"
    }
   ],
   "source": [
    "label_encoder = preprocessing.LabelEncoder() \n",
    "df['loan_status']= label_encoder.fit_transform(df['loan_status'])\n",
    "df['loan_status'].unique()"
   ]
  },
  {
   "cell_type": "code",
   "execution_count": 15,
   "id": "5211c4ee",
   "metadata": {},
   "outputs": [
    {
     "data": {
      "text/html": [
       "<div>\n",
       "<style scoped>\n",
       "    .dataframe tbody tr th:only-of-type {\n",
       "        vertical-align: middle;\n",
       "    }\n",
       "\n",
       "    .dataframe tbody tr th {\n",
       "        vertical-align: top;\n",
       "    }\n",
       "\n",
       "    .dataframe thead th {\n",
       "        text-align: right;\n",
       "    }\n",
       "</style>\n",
       "<table border=\"1\" class=\"dataframe\">\n",
       "  <thead>\n",
       "    <tr style=\"text-align: right;\">\n",
       "      <th></th>\n",
       "      <th>No_of_dependents</th>\n",
       "      <th>Education</th>\n",
       "      <th>self_employed</th>\n",
       "      <th>income_annum</th>\n",
       "      <th>loan_amount</th>\n",
       "      <th>loan_term</th>\n",
       "      <th>cibil_score</th>\n",
       "      <th>residential_assets_value</th>\n",
       "      <th>commercial_assets_value</th>\n",
       "      <th>luxury_assets_value</th>\n",
       "      <th>bank_asset_value</th>\n",
       "      <th>loan_status</th>\n",
       "    </tr>\n",
       "  </thead>\n",
       "  <tbody>\n",
       "    <tr>\n",
       "      <th>0</th>\n",
       "      <td>2</td>\n",
       "      <td>0</td>\n",
       "      <td>0</td>\n",
       "      <td>9600000</td>\n",
       "      <td>29900000</td>\n",
       "      <td>12</td>\n",
       "      <td>778</td>\n",
       "      <td>2400000</td>\n",
       "      <td>17600000</td>\n",
       "      <td>22700000</td>\n",
       "      <td>8000000</td>\n",
       "      <td>0</td>\n",
       "    </tr>\n",
       "    <tr>\n",
       "      <th>1</th>\n",
       "      <td>0</td>\n",
       "      <td>1</td>\n",
       "      <td>1</td>\n",
       "      <td>4100000</td>\n",
       "      <td>12200000</td>\n",
       "      <td>8</td>\n",
       "      <td>417</td>\n",
       "      <td>2700000</td>\n",
       "      <td>2200000</td>\n",
       "      <td>8800000</td>\n",
       "      <td>3300000</td>\n",
       "      <td>1</td>\n",
       "    </tr>\n",
       "    <tr>\n",
       "      <th>2</th>\n",
       "      <td>3</td>\n",
       "      <td>0</td>\n",
       "      <td>0</td>\n",
       "      <td>9100000</td>\n",
       "      <td>29700000</td>\n",
       "      <td>20</td>\n",
       "      <td>506</td>\n",
       "      <td>7100000</td>\n",
       "      <td>4500000</td>\n",
       "      <td>33300000</td>\n",
       "      <td>12800000</td>\n",
       "      <td>1</td>\n",
       "    </tr>\n",
       "    <tr>\n",
       "      <th>3</th>\n",
       "      <td>3</td>\n",
       "      <td>0</td>\n",
       "      <td>0</td>\n",
       "      <td>8200000</td>\n",
       "      <td>30700000</td>\n",
       "      <td>8</td>\n",
       "      <td>467</td>\n",
       "      <td>18200000</td>\n",
       "      <td>3300000</td>\n",
       "      <td>23300000</td>\n",
       "      <td>7900000</td>\n",
       "      <td>1</td>\n",
       "    </tr>\n",
       "    <tr>\n",
       "      <th>4</th>\n",
       "      <td>5</td>\n",
       "      <td>1</td>\n",
       "      <td>1</td>\n",
       "      <td>9800000</td>\n",
       "      <td>24200000</td>\n",
       "      <td>20</td>\n",
       "      <td>382</td>\n",
       "      <td>12400000</td>\n",
       "      <td>8200000</td>\n",
       "      <td>29400000</td>\n",
       "      <td>5000000</td>\n",
       "      <td>1</td>\n",
       "    </tr>\n",
       "    <tr>\n",
       "      <th>...</th>\n",
       "      <td>...</td>\n",
       "      <td>...</td>\n",
       "      <td>...</td>\n",
       "      <td>...</td>\n",
       "      <td>...</td>\n",
       "      <td>...</td>\n",
       "      <td>...</td>\n",
       "      <td>...</td>\n",
       "      <td>...</td>\n",
       "      <td>...</td>\n",
       "      <td>...</td>\n",
       "      <td>...</td>\n",
       "    </tr>\n",
       "    <tr>\n",
       "      <th>4264</th>\n",
       "      <td>5</td>\n",
       "      <td>0</td>\n",
       "      <td>1</td>\n",
       "      <td>1000000</td>\n",
       "      <td>2300000</td>\n",
       "      <td>12</td>\n",
       "      <td>317</td>\n",
       "      <td>2800000</td>\n",
       "      <td>500000</td>\n",
       "      <td>3300000</td>\n",
       "      <td>800000</td>\n",
       "      <td>1</td>\n",
       "    </tr>\n",
       "    <tr>\n",
       "      <th>4265</th>\n",
       "      <td>0</td>\n",
       "      <td>1</td>\n",
       "      <td>1</td>\n",
       "      <td>3300000</td>\n",
       "      <td>11300000</td>\n",
       "      <td>20</td>\n",
       "      <td>559</td>\n",
       "      <td>4200000</td>\n",
       "      <td>2900000</td>\n",
       "      <td>11000000</td>\n",
       "      <td>1900000</td>\n",
       "      <td>0</td>\n",
       "    </tr>\n",
       "    <tr>\n",
       "      <th>4266</th>\n",
       "      <td>2</td>\n",
       "      <td>1</td>\n",
       "      <td>0</td>\n",
       "      <td>6500000</td>\n",
       "      <td>23900000</td>\n",
       "      <td>18</td>\n",
       "      <td>457</td>\n",
       "      <td>1200000</td>\n",
       "      <td>12400000</td>\n",
       "      <td>18100000</td>\n",
       "      <td>7300000</td>\n",
       "      <td>1</td>\n",
       "    </tr>\n",
       "    <tr>\n",
       "      <th>4267</th>\n",
       "      <td>1</td>\n",
       "      <td>1</td>\n",
       "      <td>0</td>\n",
       "      <td>4100000</td>\n",
       "      <td>12800000</td>\n",
       "      <td>8</td>\n",
       "      <td>780</td>\n",
       "      <td>8200000</td>\n",
       "      <td>700000</td>\n",
       "      <td>14100000</td>\n",
       "      <td>5800000</td>\n",
       "      <td>0</td>\n",
       "    </tr>\n",
       "    <tr>\n",
       "      <th>4268</th>\n",
       "      <td>1</td>\n",
       "      <td>0</td>\n",
       "      <td>0</td>\n",
       "      <td>9200000</td>\n",
       "      <td>29700000</td>\n",
       "      <td>10</td>\n",
       "      <td>607</td>\n",
       "      <td>17800000</td>\n",
       "      <td>11800000</td>\n",
       "      <td>35700000</td>\n",
       "      <td>12000000</td>\n",
       "      <td>0</td>\n",
       "    </tr>\n",
       "  </tbody>\n",
       "</table>\n",
       "<p>4269 rows × 12 columns</p>\n",
       "</div>"
      ],
      "text/plain": [
       "      No_of_dependents  Education  self_employed  income_annum  loan_amount  \\\n",
       "0                    2          0              0       9600000     29900000   \n",
       "1                    0          1              1       4100000     12200000   \n",
       "2                    3          0              0       9100000     29700000   \n",
       "3                    3          0              0       8200000     30700000   \n",
       "4                    5          1              1       9800000     24200000   \n",
       "...                ...        ...            ...           ...          ...   \n",
       "4264                 5          0              1       1000000      2300000   \n",
       "4265                 0          1              1       3300000     11300000   \n",
       "4266                 2          1              0       6500000     23900000   \n",
       "4267                 1          1              0       4100000     12800000   \n",
       "4268                 1          0              0       9200000     29700000   \n",
       "\n",
       "      loan_term  cibil_score  residential_assets_value  \\\n",
       "0            12          778                   2400000   \n",
       "1             8          417                   2700000   \n",
       "2            20          506                   7100000   \n",
       "3             8          467                  18200000   \n",
       "4            20          382                  12400000   \n",
       "...         ...          ...                       ...   \n",
       "4264         12          317                   2800000   \n",
       "4265         20          559                   4200000   \n",
       "4266         18          457                   1200000   \n",
       "4267          8          780                   8200000   \n",
       "4268         10          607                  17800000   \n",
       "\n",
       "      commercial_assets_value  luxury_assets_value  bank_asset_value  \\\n",
       "0                    17600000             22700000           8000000   \n",
       "1                     2200000              8800000           3300000   \n",
       "2                     4500000             33300000          12800000   \n",
       "3                     3300000             23300000           7900000   \n",
       "4                     8200000             29400000           5000000   \n",
       "...                       ...                  ...               ...   \n",
       "4264                   500000              3300000            800000   \n",
       "4265                  2900000             11000000           1900000   \n",
       "4266                 12400000             18100000           7300000   \n",
       "4267                   700000             14100000           5800000   \n",
       "4268                 11800000             35700000          12000000   \n",
       "\n",
       "      loan_status  \n",
       "0               0  \n",
       "1               1  \n",
       "2               1  \n",
       "3               1  \n",
       "4               1  \n",
       "...           ...  \n",
       "4264            1  \n",
       "4265            0  \n",
       "4266            1  \n",
       "4267            0  \n",
       "4268            0  \n",
       "\n",
       "[4269 rows x 12 columns]"
      ]
     },
     "execution_count": 15,
     "metadata": {},
     "output_type": "execute_result"
    }
   ],
   "source": [
    "x=df.iloc[:,:12]\n",
    "x"
   ]
  },
  {
   "cell_type": "code",
   "execution_count": 16,
   "id": "966c8877",
   "metadata": {},
   "outputs": [],
   "source": [
    "y=df.iloc[:,[-1]]"
   ]
  },
  {
   "cell_type": "code",
   "execution_count": 17,
   "id": "ed288e2b",
   "metadata": {},
   "outputs": [
    {
     "data": {
      "text/html": [
       "<div>\n",
       "<style scoped>\n",
       "    .dataframe tbody tr th:only-of-type {\n",
       "        vertical-align: middle;\n",
       "    }\n",
       "\n",
       "    .dataframe tbody tr th {\n",
       "        vertical-align: top;\n",
       "    }\n",
       "\n",
       "    .dataframe thead th {\n",
       "        text-align: right;\n",
       "    }\n",
       "</style>\n",
       "<table border=\"1\" class=\"dataframe\">\n",
       "  <thead>\n",
       "    <tr style=\"text-align: right;\">\n",
       "      <th></th>\n",
       "      <th>loan_status</th>\n",
       "    </tr>\n",
       "  </thead>\n",
       "  <tbody>\n",
       "    <tr>\n",
       "      <th>0</th>\n",
       "      <td>0</td>\n",
       "    </tr>\n",
       "    <tr>\n",
       "      <th>1</th>\n",
       "      <td>1</td>\n",
       "    </tr>\n",
       "    <tr>\n",
       "      <th>2</th>\n",
       "      <td>1</td>\n",
       "    </tr>\n",
       "    <tr>\n",
       "      <th>3</th>\n",
       "      <td>1</td>\n",
       "    </tr>\n",
       "    <tr>\n",
       "      <th>4</th>\n",
       "      <td>1</td>\n",
       "    </tr>\n",
       "    <tr>\n",
       "      <th>...</th>\n",
       "      <td>...</td>\n",
       "    </tr>\n",
       "    <tr>\n",
       "      <th>4264</th>\n",
       "      <td>1</td>\n",
       "    </tr>\n",
       "    <tr>\n",
       "      <th>4265</th>\n",
       "      <td>0</td>\n",
       "    </tr>\n",
       "    <tr>\n",
       "      <th>4266</th>\n",
       "      <td>1</td>\n",
       "    </tr>\n",
       "    <tr>\n",
       "      <th>4267</th>\n",
       "      <td>0</td>\n",
       "    </tr>\n",
       "    <tr>\n",
       "      <th>4268</th>\n",
       "      <td>0</td>\n",
       "    </tr>\n",
       "  </tbody>\n",
       "</table>\n",
       "<p>4269 rows × 1 columns</p>\n",
       "</div>"
      ],
      "text/plain": [
       "      loan_status\n",
       "0               0\n",
       "1               1\n",
       "2               1\n",
       "3               1\n",
       "4               1\n",
       "...           ...\n",
       "4264            1\n",
       "4265            0\n",
       "4266            1\n",
       "4267            0\n",
       "4268            0\n",
       "\n",
       "[4269 rows x 1 columns]"
      ]
     },
     "execution_count": 17,
     "metadata": {},
     "output_type": "execute_result"
    }
   ],
   "source": [
    "y"
   ]
  },
  {
   "cell_type": "code",
   "execution_count": 18,
   "id": "f9c6ada9",
   "metadata": {},
   "outputs": [],
   "source": [
    "from sklearn.model_selection import train_test_split"
   ]
  },
  {
   "cell_type": "code",
   "execution_count": 19,
   "id": "ccb72304",
   "metadata": {},
   "outputs": [],
   "source": [
    "x_train,x_test,y_train,y_test = train_test_split(x,y,random_state=2, test_size=0.30, stratify=y)"
   ]
  },
  {
   "cell_type": "raw",
   "id": "ad59143b-e494-42ea-8429-f5822ab62f9e",
   "metadata": {},
   "source": [
    "# Using UNSCALED DATA for the prediction"
   ]
  },
  {
   "cell_type": "code",
   "execution_count": 20,
   "id": "d7cd93a3",
   "metadata": {},
   "outputs": [
    {
     "name": "stdout",
     "output_type": "stream",
     "text": [
      "62.21701795472288\n"
     ]
    },
    {
     "name": "stderr",
     "output_type": "stream",
     "text": [
      "C:\\Users\\dhana\\anaconda3\\Lib\\site-packages\\sklearn\\utils\\validation.py:1143: DataConversionWarning: A column-vector y was passed when a 1d array was expected. Please change the shape of y to (n_samples, ), for example using ravel().\n",
      "  y = column_or_1d(y, warn=True)\n"
     ]
    }
   ],
   "source": [
    "#LOGISTIC REGRESSION\n",
    "from sklearn.linear_model import LogisticRegression\n",
    "from sklearn.metrics import accuracy_score, confusion_matrix, precision_score, recall_score\n",
    "from sklearn.metrics import classification_report\n",
    "logreg = LogisticRegression(random_state=42)\n",
    "logreg.fit(x_train,y_train)\n",
    "y_pred=logreg.predict(x_test)\n",
    "acc=accuracy_score(y_test,y_pred)\n",
    "print(acc*100)"
   ]
  },
  {
   "cell_type": "code",
   "execution_count": 21,
   "id": "f8e6395e",
   "metadata": {},
   "outputs": [
    {
     "data": {
      "text/plain": [
       "0.5"
      ]
     },
     "execution_count": 21,
     "metadata": {},
     "output_type": "execute_result"
    }
   ],
   "source": [
    "ps=precision_score(y_test,y_pred)\n",
    "ps"
   ]
  },
  {
   "cell_type": "code",
   "execution_count": 22,
   "id": "791566ea",
   "metadata": {},
   "outputs": [
    {
     "data": {
      "text/plain": [
       "0.004132231404958678"
      ]
     },
     "execution_count": 22,
     "metadata": {},
     "output_type": "execute_result"
    }
   ],
   "source": [
    "rc=recall_score(y_test,y_pred)\n",
    "rc"
   ]
  },
  {
   "cell_type": "code",
   "execution_count": 23,
   "id": "c5c34f37",
   "metadata": {},
   "outputs": [
    {
     "data": {
      "text/plain": [
       "array([[795,   2],\n",
       "       [482,   2]], dtype=int64)"
      ]
     },
     "execution_count": 23,
     "metadata": {},
     "output_type": "execute_result"
    }
   ],
   "source": [
    "cm=confusion_matrix(y_test,y_pred)\n",
    "cm"
   ]
  },
  {
   "cell_type": "code",
   "execution_count": 24,
   "id": "acfe6335",
   "metadata": {},
   "outputs": [
    {
     "data": {
      "image/png": "[encoded data removed]",
      "text/plain": [
       "<Figure size 640x480 with 2 Axes>"
      ]
     },
     "metadata": {},
     "output_type": "display_data"
    }
   ],
   "source": [
    "import matplotlib.pyplot as plt\n",
    "import seaborn as sns\n",
    "sns.heatmap(cm,annot=True,fmt='g')\n",
    "plt.ylabel('Prediction',fontsize=13)\n",
    "plt.xlabel('Actual',fontsize=13)\n",
    "plt.title('Confusion Matrix', fontsize=17)\n",
    "plt.show()"
   ]
  },
  {
   "cell_type": "code",
   "execution_count": 25,
   "id": "33645189",
   "metadata": {},
   "outputs": [
    {
     "name": "stdout",
     "output_type": "stream",
     "text": [
      "              precision    recall  f1-score   support\n",
      "\n",
      "           1       0.50      0.00      0.01       484\n",
      "\n",
      "   micro avg       0.50      0.00      0.01       484\n",
      "   macro avg       0.50      0.00      0.01       484\n",
      "weighted avg       0.50      0.00      0.01       484\n",
      "\n"
     ]
    }
   ],
   "source": [
    "print(classification_report(y_test,y_pred,labels=[1]))"
   ]
  },
  {
   "cell_type": "code",
   "execution_count": 31,
   "id": "e9cc7ce2",
   "metadata": {},
   "outputs": [],
   "source": [
    "# Here, I used the raw (unscaled numerical data) numerical data for prediction in LOGISTIC REGRESSION algorithm. \n",
    "# Accuracy of the model is 61%.\n",
    "# But the False Negative value is 2.\n"
   ]
  },
  {
   "cell_type": "code",
   "execution_count": 26,
   "id": "00cbe9e7",
   "metadata": {},
   "outputs": [
    {
     "name": "stderr",
     "output_type": "stream",
     "text": [
      "C:\\Users\\dhana\\AppData\\Local\\Temp\\ipykernel_19996\\3690713137.py:4: DataConversionWarning: A column-vector y was passed when a 1d array was expected. Please change the shape of y to (n_samples,), for example using ravel().\n",
      "  Classifier.fit(x_train,y_train)\n"
     ]
    },
    {
     "name": "stdout",
     "output_type": "stream",
     "text": [
      "100.0\n"
     ]
    }
   ],
   "source": [
    "#RANDOM FOREST\n",
    "from sklearn.ensemble import RandomForestClassifier\n",
    "Classifier= RandomForestClassifier(n_estimators= 100, criterion= \"entropy\")\n",
    "Classifier.fit(x_train,y_train)\n",
    "y_pred1=Classifier.predict(x_test)\n",
    "acc=accuracy_score(y_test,y_pred1)\n",
    "print(acc*100)"
   ]
  },
  {
   "cell_type": "code",
   "execution_count": 27,
   "id": "c987a27a",
   "metadata": {},
   "outputs": [
    {
     "data": {
      "text/plain": [
       "1.0"
      ]
     },
     "execution_count": 27,
     "metadata": {},
     "output_type": "execute_result"
    }
   ],
   "source": [
    "ps1=precision_score(y_test,y_pred1)\n",
    "ps1"
   ]
  },
  {
   "cell_type": "code",
   "execution_count": 28,
   "id": "e1e5a928",
   "metadata": {},
   "outputs": [
    {
     "data": {
      "text/plain": [
       "1.0"
      ]
     },
     "execution_count": 28,
     "metadata": {},
     "output_type": "execute_result"
    }
   ],
   "source": [
    "rc1=recall_score(y_test,y_pred1)\n",
    "rc1"
   ]
  },
  {
   "cell_type": "code",
   "execution_count": 29,
   "id": "385d75f3",
   "metadata": {},
   "outputs": [
    {
     "data": {
      "text/plain": [
       "array([[797,   0],\n",
       "       [  0, 484]], dtype=int64)"
      ]
     },
     "execution_count": 29,
     "metadata": {},
     "output_type": "execute_result"
    }
   ],
   "source": [
    "cm1=confusion_matrix(y_test,y_pred1)\n",
    "cm1"
   ]
  },
  {
   "cell_type": "code",
   "execution_count": 30,
   "id": "d8a71cc2",
   "metadata": {},
   "outputs": [
    {
     "data": {
      "image/png": "[encoded data removed]",
      "text/plain": [
       "<Figure size 640x480 with 2 Axes>"
      ]
     },
     "metadata": {},
     "output_type": "display_data"
    }
   ],
   "source": [
    "sns.heatmap(cm1,annot=True,fmt='g')\n",
    "plt.ylabel('Prediction',fontsize=13)\n",
    "plt.xlabel('Actual',fontsize=13)\n",
    "plt.title('Confusion Matrix', fontsize=17)\n",
    "plt.show()"
   ]
  },
  {
   "cell_type": "code",
   "execution_count": 31,
   "id": "c9decc59",
   "metadata": {},
   "outputs": [
    {
     "name": "stdout",
     "output_type": "stream",
     "text": [
      "              precision    recall  f1-score   support\n",
      "\n",
      "           1       1.00      1.00      1.00       484\n",
      "\n",
      "   micro avg       1.00      1.00      1.00       484\n",
      "   macro avg       1.00      1.00      1.00       484\n",
      "weighted avg       1.00      1.00      1.00       484\n",
      "\n"
     ]
    }
   ],
   "source": [
    "print(classification_report(y_test,y_pred1,labels=[1]))"
   ]
  },
  {
   "cell_type": "code",
   "execution_count": 38,
   "id": "9b51f827",
   "metadata": {},
   "outputs": [],
   "source": [
    "# Using unscaled numerical data in RANDOM FOREST algorithm.\n",
    "# The ACCURACY is 97%\n",
    "# But False Negative value is 12."
   ]
  },
  {
   "cell_type": "code",
   "execution_count": 32,
   "id": "51ccec96",
   "metadata": {},
   "outputs": [
    {
     "name": "stdout",
     "output_type": "stream",
     "text": [
      "100.0\n"
     ]
    }
   ],
   "source": [
    "#DECISION TREE ALGORITHM\n",
    "from sklearn.tree import DecisionTreeClassifier\n",
    "dtree=DecisionTreeClassifier(criterion='gini',max_depth=5,min_samples_split=2,min_samples_leaf=1)\n",
    "dtree.fit(x_train,y_train)\n",
    "y_pred2=dtree.predict(x_test)\n",
    "acc2=accuracy_score(y_test,y_pred2)\n",
    "print(acc2*100)"
   ]
  },
  {
   "cell_type": "code",
   "execution_count": 33,
   "id": "c4974644",
   "metadata": {},
   "outputs": [
    {
     "data": {
      "text/plain": [
       "1.0"
      ]
     },
     "execution_count": 33,
     "metadata": {},
     "output_type": "execute_result"
    }
   ],
   "source": [
    "ps2=precision_score(y_test,y_pred2)\n",
    "ps2"
   ]
  },
  {
   "cell_type": "code",
   "execution_count": 34,
   "id": "d4b73dfe",
   "metadata": {},
   "outputs": [
    {
     "data": {
      "text/plain": [
       "1.0"
      ]
     },
     "execution_count": 34,
     "metadata": {},
     "output_type": "execute_result"
    }
   ],
   "source": [
    "rc2=recall_score(y_test,y_pred2)\n",
    "rc2"
   ]
  },
  {
   "cell_type": "code",
   "execution_count": 35,
   "id": "5a3f90b9",
   "metadata": {},
   "outputs": [
    {
     "data": {
      "text/plain": [
       "array([[797,   0],\n",
       "       [  0, 484]], dtype=int64)"
      ]
     },
     "execution_count": 35,
     "metadata": {},
     "output_type": "execute_result"
    }
   ],
   "source": [
    "cm2=confusion_matrix(y_test,y_pred2)\n",
    "cm2"
   ]
  },
  {
   "cell_type": "code",
   "execution_count": 36,
   "id": "a32b6eab",
   "metadata": {},
   "outputs": [
    {
     "data": {
      "image/png": "[encoded data removed]",
      "text/plain": [
       "<Figure size 640x480 with 2 Axes>"
      ]
     },
     "metadata": {},
     "output_type": "display_data"
    }
   ],
   "source": [
    "sns.heatmap(cm2,annot=True,fmt='g')\n",
    "plt.ylabel('Prediction',fontsize=13)\n",
    "plt.xlabel('Actual',fontsize=13)\n",
    "plt.title('Confusion Matrix', fontsize=17)\n",
    "plt.show()"
   ]
  },
  {
   "cell_type": "code",
   "execution_count": 37,
   "id": "faeaa562",
   "metadata": {},
   "outputs": [
    {
     "name": "stdout",
     "output_type": "stream",
     "text": [
      "              precision    recall  f1-score   support\n",
      "\n",
      "           1       1.00      1.00      1.00       484\n",
      "\n",
      "   micro avg       1.00      1.00      1.00       484\n",
      "   macro avg       1.00      1.00      1.00       484\n",
      "weighted avg       1.00      1.00      1.00       484\n",
      "\n"
     ]
    }
   ],
   "source": [
    "print(classification_report(y_test,y_pred2,labels=[1]))"
   ]
  },
  {
   "cell_type": "code",
   "execution_count": 45,
   "id": "cee72ef8",
   "metadata": {},
   "outputs": [],
   "source": [
    "# Using unscaled numerical data in DECISION TREE algorithm.\n",
    "# The ACCURACY is 97%.\n",
    "# But the False Negative value is 30."
   ]
  },
  {
   "cell_type": "code",
   "execution_count": null,
   "id": "9dcb5630",
   "metadata": {},
   "outputs": [],
   "source": [
    "# UNSCALED DATA CONCLUSION\n",
    "# Here i've used LOGISTIC REGRESSION, RANDOM FOREST AND DECISION TREE algorithms \n",
    "\n",
    "    ALGORITHMS              ACC (%)     PS       RC     FN\n",
    "------------------------------------------------------------\n",
    "1) Logistic regression        61       0.7     0.009     2\n",
    "2) Random forest              97      0.96      0.95    15\n",
    "3) Decision tree             96.8     0.94      0.98    30"
   ]
  },
  {
   "cell_type": "code",
   "execution_count": 46,
   "id": "14997a44",
   "metadata": {},
   "outputs": [],
   "source": [
    "#   Conclusion, The model is more effective when using Random forest algorithm for prediciton \n",
    "#   and worst prediction in Logistic regrssion."
   ]
  },
  {
   "cell_type": "code",
   "execution_count": 47,
   "id": "3ea04e57",
   "metadata": {},
   "outputs": [],
   "source": [
    "# SCALING THE DATA "
   ]
  },
  {
   "cell_type": "code",
   "execution_count": 38,
   "id": "4b0b9c67",
   "metadata": {},
   "outputs": [
    {
     "data": {
      "text/html": [
       "<div>\n",
       "<style scoped>\n",
       "    .dataframe tbody tr th:only-of-type {\n",
       "        vertical-align: middle;\n",
       "    }\n",
       "\n",
       "    .dataframe tbody tr th {\n",
       "        vertical-align: top;\n",
       "    }\n",
       "\n",
       "    .dataframe thead th {\n",
       "        text-align: right;\n",
       "    }\n",
       "</style>\n",
       "<table border=\"1\" class=\"dataframe\">\n",
       "  <thead>\n",
       "    <tr style=\"text-align: right;\">\n",
       "      <th></th>\n",
       "      <th>No_of_dependents</th>\n",
       "      <th>Education</th>\n",
       "      <th>self_employed</th>\n",
       "      <th>income_annum</th>\n",
       "      <th>loan_amount</th>\n",
       "      <th>loan_term</th>\n",
       "      <th>cibil_score</th>\n",
       "      <th>residential_assets_value</th>\n",
       "      <th>commercial_assets_value</th>\n",
       "      <th>luxury_assets_value</th>\n",
       "      <th>bank_asset_value</th>\n",
       "      <th>loan_status</th>\n",
       "    </tr>\n",
       "  </thead>\n",
       "  <tbody>\n",
       "    <tr>\n",
       "      <th>0</th>\n",
       "      <td>2</td>\n",
       "      <td>Graduate</td>\n",
       "      <td>No</td>\n",
       "      <td>9600000</td>\n",
       "      <td>29900000</td>\n",
       "      <td>12</td>\n",
       "      <td>778</td>\n",
       "      <td>2400000</td>\n",
       "      <td>17600000</td>\n",
       "      <td>22700000</td>\n",
       "      <td>8000000</td>\n",
       "      <td>Approved</td>\n",
       "    </tr>\n",
       "    <tr>\n",
       "      <th>1</th>\n",
       "      <td>0</td>\n",
       "      <td>Not Graduate</td>\n",
       "      <td>Yes</td>\n",
       "      <td>4100000</td>\n",
       "      <td>12200000</td>\n",
       "      <td>8</td>\n",
       "      <td>417</td>\n",
       "      <td>2700000</td>\n",
       "      <td>2200000</td>\n",
       "      <td>8800000</td>\n",
       "      <td>3300000</td>\n",
       "      <td>Rejected</td>\n",
       "    </tr>\n",
       "    <tr>\n",
       "      <th>2</th>\n",
       "      <td>3</td>\n",
       "      <td>Graduate</td>\n",
       "      <td>No</td>\n",
       "      <td>9100000</td>\n",
       "      <td>29700000</td>\n",
       "      <td>20</td>\n",
       "      <td>506</td>\n",
       "      <td>7100000</td>\n",
       "      <td>4500000</td>\n",
       "      <td>33300000</td>\n",
       "      <td>12800000</td>\n",
       "      <td>Rejected</td>\n",
       "    </tr>\n",
       "    <tr>\n",
       "      <th>3</th>\n",
       "      <td>3</td>\n",
       "      <td>Graduate</td>\n",
       "      <td>No</td>\n",
       "      <td>8200000</td>\n",
       "      <td>30700000</td>\n",
       "      <td>8</td>\n",
       "      <td>467</td>\n",
       "      <td>18200000</td>\n",
       "      <td>3300000</td>\n",
       "      <td>23300000</td>\n",
       "      <td>7900000</td>\n",
       "      <td>Rejected</td>\n",
       "    </tr>\n",
       "    <tr>\n",
       "      <th>4</th>\n",
       "      <td>5</td>\n",
       "      <td>Not Graduate</td>\n",
       "      <td>Yes</td>\n",
       "      <td>9800000</td>\n",
       "      <td>24200000</td>\n",
       "      <td>20</td>\n",
       "      <td>382</td>\n",
       "      <td>12400000</td>\n",
       "      <td>8200000</td>\n",
       "      <td>29400000</td>\n",
       "      <td>5000000</td>\n",
       "      <td>Rejected</td>\n",
       "    </tr>\n",
       "    <tr>\n",
       "      <th>...</th>\n",
       "      <td>...</td>\n",
       "      <td>...</td>\n",
       "      <td>...</td>\n",
       "      <td>...</td>\n",
       "      <td>...</td>\n",
       "      <td>...</td>\n",
       "      <td>...</td>\n",
       "      <td>...</td>\n",
       "      <td>...</td>\n",
       "      <td>...</td>\n",
       "      <td>...</td>\n",
       "      <td>...</td>\n",
       "    </tr>\n",
       "    <tr>\n",
       "      <th>4264</th>\n",
       "      <td>5</td>\n",
       "      <td>Graduate</td>\n",
       "      <td>Yes</td>\n",
       "      <td>1000000</td>\n",
       "      <td>2300000</td>\n",
       "      <td>12</td>\n",
       "      <td>317</td>\n",
       "      <td>2800000</td>\n",
       "      <td>500000</td>\n",
       "      <td>3300000</td>\n",
       "      <td>800000</td>\n",
       "      <td>Rejected</td>\n",
       "    </tr>\n",
       "    <tr>\n",
       "      <th>4265</th>\n",
       "      <td>0</td>\n",
       "      <td>Not Graduate</td>\n",
       "      <td>Yes</td>\n",
       "      <td>3300000</td>\n",
       "      <td>11300000</td>\n",
       "      <td>20</td>\n",
       "      <td>559</td>\n",
       "      <td>4200000</td>\n",
       "      <td>2900000</td>\n",
       "      <td>11000000</td>\n",
       "      <td>1900000</td>\n",
       "      <td>Approved</td>\n",
       "    </tr>\n",
       "    <tr>\n",
       "      <th>4266</th>\n",
       "      <td>2</td>\n",
       "      <td>Not Graduate</td>\n",
       "      <td>No</td>\n",
       "      <td>6500000</td>\n",
       "      <td>23900000</td>\n",
       "      <td>18</td>\n",
       "      <td>457</td>\n",
       "      <td>1200000</td>\n",
       "      <td>12400000</td>\n",
       "      <td>18100000</td>\n",
       "      <td>7300000</td>\n",
       "      <td>Rejected</td>\n",
       "    </tr>\n",
       "    <tr>\n",
       "      <th>4267</th>\n",
       "      <td>1</td>\n",
       "      <td>Not Graduate</td>\n",
       "      <td>No</td>\n",
       "      <td>4100000</td>\n",
       "      <td>12800000</td>\n",
       "      <td>8</td>\n",
       "      <td>780</td>\n",
       "      <td>8200000</td>\n",
       "      <td>700000</td>\n",
       "      <td>14100000</td>\n",
       "      <td>5800000</td>\n",
       "      <td>Approved</td>\n",
       "    </tr>\n",
       "    <tr>\n",
       "      <th>4268</th>\n",
       "      <td>1</td>\n",
       "      <td>Graduate</td>\n",
       "      <td>No</td>\n",
       "      <td>9200000</td>\n",
       "      <td>29700000</td>\n",
       "      <td>10</td>\n",
       "      <td>607</td>\n",
       "      <td>17800000</td>\n",
       "      <td>11800000</td>\n",
       "      <td>35700000</td>\n",
       "      <td>12000000</td>\n",
       "      <td>Approved</td>\n",
       "    </tr>\n",
       "  </tbody>\n",
       "</table>\n",
       "<p>4269 rows × 12 columns</p>\n",
       "</div>"
      ],
      "text/plain": [
       "      No_of_dependents      Education self_employed  income_annum  \\\n",
       "0                    2       Graduate            No       9600000   \n",
       "1                    0   Not Graduate           Yes       4100000   \n",
       "2                    3       Graduate            No       9100000   \n",
       "3                    3       Graduate            No       8200000   \n",
       "4                    5   Not Graduate           Yes       9800000   \n",
       "...                ...            ...           ...           ...   \n",
       "4264                 5       Graduate           Yes       1000000   \n",
       "4265                 0   Not Graduate           Yes       3300000   \n",
       "4266                 2   Not Graduate            No       6500000   \n",
       "4267                 1   Not Graduate            No       4100000   \n",
       "4268                 1       Graduate            No       9200000   \n",
       "\n",
       "      loan_amount  loan_term  cibil_score  residential_assets_value  \\\n",
       "0        29900000         12          778                   2400000   \n",
       "1        12200000          8          417                   2700000   \n",
       "2        29700000         20          506                   7100000   \n",
       "3        30700000          8          467                  18200000   \n",
       "4        24200000         20          382                  12400000   \n",
       "...           ...        ...          ...                       ...   \n",
       "4264      2300000         12          317                   2800000   \n",
       "4265     11300000         20          559                   4200000   \n",
       "4266     23900000         18          457                   1200000   \n",
       "4267     12800000          8          780                   8200000   \n",
       "4268     29700000         10          607                  17800000   \n",
       "\n",
       "      commercial_assets_value  luxury_assets_value  bank_asset_value  \\\n",
       "0                    17600000             22700000           8000000   \n",
       "1                     2200000              8800000           3300000   \n",
       "2                     4500000             33300000          12800000   \n",
       "3                     3300000             23300000           7900000   \n",
       "4                     8200000             29400000           5000000   \n",
       "...                       ...                  ...               ...   \n",
       "4264                   500000              3300000            800000   \n",
       "4265                  2900000             11000000           1900000   \n",
       "4266                 12400000             18100000           7300000   \n",
       "4267                   700000             14100000           5800000   \n",
       "4268                 11800000             35700000          12000000   \n",
       "\n",
       "     loan_status  \n",
       "0       Approved  \n",
       "1       Rejected  \n",
       "2       Rejected  \n",
       "3       Rejected  \n",
       "4       Rejected  \n",
       "...          ...  \n",
       "4264    Rejected  \n",
       "4265    Approved  \n",
       "4266    Rejected  \n",
       "4267    Approved  \n",
       "4268    Approved  \n",
       "\n",
       "[4269 rows x 12 columns]"
      ]
     },
     "execution_count": 38,
     "metadata": {},
     "output_type": "execute_result"
    }
   ],
   "source": [
    "df1"
   ]
  },
  {
   "cell_type": "code",
   "execution_count": 39,
   "id": "b783562c",
   "metadata": {},
   "outputs": [
    {
     "data": {
      "text/html": [
       "<div>\n",
       "<style scoped>\n",
       "    .dataframe tbody tr th:only-of-type {\n",
       "        vertical-align: middle;\n",
       "    }\n",
       "\n",
       "    .dataframe tbody tr th {\n",
       "        vertical-align: top;\n",
       "    }\n",
       "\n",
       "    .dataframe thead th {\n",
       "        text-align: right;\n",
       "    }\n",
       "</style>\n",
       "<table border=\"1\" class=\"dataframe\">\n",
       "  <thead>\n",
       "    <tr style=\"text-align: right;\">\n",
       "      <th></th>\n",
       "      <th>No_of_dependents</th>\n",
       "      <th>income_annum</th>\n",
       "      <th>loan_amount</th>\n",
       "      <th>loan_term</th>\n",
       "      <th>cibil_score</th>\n",
       "      <th>residential_assets_value</th>\n",
       "      <th>commercial_assets_value</th>\n",
       "      <th>luxury_assets_value</th>\n",
       "      <th>bank_asset_value</th>\n",
       "    </tr>\n",
       "  </thead>\n",
       "  <tbody>\n",
       "    <tr>\n",
       "      <th>0</th>\n",
       "      <td>2</td>\n",
       "      <td>9600000</td>\n",
       "      <td>29900000</td>\n",
       "      <td>12</td>\n",
       "      <td>778</td>\n",
       "      <td>2400000</td>\n",
       "      <td>17600000</td>\n",
       "      <td>22700000</td>\n",
       "      <td>8000000</td>\n",
       "    </tr>\n",
       "    <tr>\n",
       "      <th>1</th>\n",
       "      <td>0</td>\n",
       "      <td>4100000</td>\n",
       "      <td>12200000</td>\n",
       "      <td>8</td>\n",
       "      <td>417</td>\n",
       "      <td>2700000</td>\n",
       "      <td>2200000</td>\n",
       "      <td>8800000</td>\n",
       "      <td>3300000</td>\n",
       "    </tr>\n",
       "    <tr>\n",
       "      <th>2</th>\n",
       "      <td>3</td>\n",
       "      <td>9100000</td>\n",
       "      <td>29700000</td>\n",
       "      <td>20</td>\n",
       "      <td>506</td>\n",
       "      <td>7100000</td>\n",
       "      <td>4500000</td>\n",
       "      <td>33300000</td>\n",
       "      <td>12800000</td>\n",
       "    </tr>\n",
       "    <tr>\n",
       "      <th>3</th>\n",
       "      <td>3</td>\n",
       "      <td>8200000</td>\n",
       "      <td>30700000</td>\n",
       "      <td>8</td>\n",
       "      <td>467</td>\n",
       "      <td>18200000</td>\n",
       "      <td>3300000</td>\n",
       "      <td>23300000</td>\n",
       "      <td>7900000</td>\n",
       "    </tr>\n",
       "    <tr>\n",
       "      <th>4</th>\n",
       "      <td>5</td>\n",
       "      <td>9800000</td>\n",
       "      <td>24200000</td>\n",
       "      <td>20</td>\n",
       "      <td>382</td>\n",
       "      <td>12400000</td>\n",
       "      <td>8200000</td>\n",
       "      <td>29400000</td>\n",
       "      <td>5000000</td>\n",
       "    </tr>\n",
       "    <tr>\n",
       "      <th>...</th>\n",
       "      <td>...</td>\n",
       "      <td>...</td>\n",
       "      <td>...</td>\n",
       "      <td>...</td>\n",
       "      <td>...</td>\n",
       "      <td>...</td>\n",
       "      <td>...</td>\n",
       "      <td>...</td>\n",
       "      <td>...</td>\n",
       "    </tr>\n",
       "    <tr>\n",
       "      <th>4264</th>\n",
       "      <td>5</td>\n",
       "      <td>1000000</td>\n",
       "      <td>2300000</td>\n",
       "      <td>12</td>\n",
       "      <td>317</td>\n",
       "      <td>2800000</td>\n",
       "      <td>500000</td>\n",
       "      <td>3300000</td>\n",
       "      <td>800000</td>\n",
       "    </tr>\n",
       "    <tr>\n",
       "      <th>4265</th>\n",
       "      <td>0</td>\n",
       "      <td>3300000</td>\n",
       "      <td>11300000</td>\n",
       "      <td>20</td>\n",
       "      <td>559</td>\n",
       "      <td>4200000</td>\n",
       "      <td>2900000</td>\n",
       "      <td>11000000</td>\n",
       "      <td>1900000</td>\n",
       "    </tr>\n",
       "    <tr>\n",
       "      <th>4266</th>\n",
       "      <td>2</td>\n",
       "      <td>6500000</td>\n",
       "      <td>23900000</td>\n",
       "      <td>18</td>\n",
       "      <td>457</td>\n",
       "      <td>1200000</td>\n",
       "      <td>12400000</td>\n",
       "      <td>18100000</td>\n",
       "      <td>7300000</td>\n",
       "    </tr>\n",
       "    <tr>\n",
       "      <th>4267</th>\n",
       "      <td>1</td>\n",
       "      <td>4100000</td>\n",
       "      <td>12800000</td>\n",
       "      <td>8</td>\n",
       "      <td>780</td>\n",
       "      <td>8200000</td>\n",
       "      <td>700000</td>\n",
       "      <td>14100000</td>\n",
       "      <td>5800000</td>\n",
       "    </tr>\n",
       "    <tr>\n",
       "      <th>4268</th>\n",
       "      <td>1</td>\n",
       "      <td>9200000</td>\n",
       "      <td>29700000</td>\n",
       "      <td>10</td>\n",
       "      <td>607</td>\n",
       "      <td>17800000</td>\n",
       "      <td>11800000</td>\n",
       "      <td>35700000</td>\n",
       "      <td>12000000</td>\n",
       "    </tr>\n",
       "  </tbody>\n",
       "</table>\n",
       "<p>4269 rows × 9 columns</p>\n",
       "</div>"
      ],
      "text/plain": [
       "      No_of_dependents  income_annum  loan_amount  loan_term  cibil_score  \\\n",
       "0                    2       9600000     29900000         12          778   \n",
       "1                    0       4100000     12200000          8          417   \n",
       "2                    3       9100000     29700000         20          506   \n",
       "3                    3       8200000     30700000          8          467   \n",
       "4                    5       9800000     24200000         20          382   \n",
       "...                ...           ...          ...        ...          ...   \n",
       "4264                 5       1000000      2300000         12          317   \n",
       "4265                 0       3300000     11300000         20          559   \n",
       "4266                 2       6500000     23900000         18          457   \n",
       "4267                 1       4100000     12800000          8          780   \n",
       "4268                 1       9200000     29700000         10          607   \n",
       "\n",
       "      residential_assets_value  commercial_assets_value  luxury_assets_value  \\\n",
       "0                      2400000                 17600000             22700000   \n",
       "1                      2700000                  2200000              8800000   \n",
       "2                      7100000                  4500000             33300000   \n",
       "3                     18200000                  3300000             23300000   \n",
       "4                     12400000                  8200000             29400000   \n",
       "...                        ...                      ...                  ...   \n",
       "4264                   2800000                   500000              3300000   \n",
       "4265                   4200000                  2900000             11000000   \n",
       "4266                   1200000                 12400000             18100000   \n",
       "4267                   8200000                   700000             14100000   \n",
       "4268                  17800000                 11800000             35700000   \n",
       "\n",
       "      bank_asset_value  \n",
       "0              8000000  \n",
       "1              3300000  \n",
       "2             12800000  \n",
       "3              7900000  \n",
       "4              5000000  \n",
       "...                ...  \n",
       "4264            800000  \n",
       "4265           1900000  \n",
       "4266           7300000  \n",
       "4267           5800000  \n",
       "4268          12000000  \n",
       "\n",
       "[4269 rows x 9 columns]"
      ]
     },
     "execution_count": 39,
     "metadata": {},
     "output_type": "execute_result"
    }
   ],
   "source": [
    "df_num=df1.select_dtypes(include=[int,float])\n",
    "df_num"
   ]
  },
  {
   "cell_type": "code",
   "execution_count": 40,
   "id": "55e5694a",
   "metadata": {},
   "outputs": [
    {
     "data": {
      "text/html": [
       "<div>\n",
       "<style scoped>\n",
       "    .dataframe tbody tr th:only-of-type {\n",
       "        vertical-align: middle;\n",
       "    }\n",
       "\n",
       "    .dataframe tbody tr th {\n",
       "        vertical-align: top;\n",
       "    }\n",
       "\n",
       "    .dataframe thead th {\n",
       "        text-align: right;\n",
       "    }\n",
       "</style>\n",
       "<table border=\"1\" class=\"dataframe\">\n",
       "  <thead>\n",
       "    <tr style=\"text-align: right;\">\n",
       "      <th></th>\n",
       "      <th>Education</th>\n",
       "      <th>self_employed</th>\n",
       "      <th>loan_status</th>\n",
       "    </tr>\n",
       "  </thead>\n",
       "  <tbody>\n",
       "    <tr>\n",
       "      <th>0</th>\n",
       "      <td>Graduate</td>\n",
       "      <td>No</td>\n",
       "      <td>Approved</td>\n",
       "    </tr>\n",
       "    <tr>\n",
       "      <th>1</th>\n",
       "      <td>Not Graduate</td>\n",
       "      <td>Yes</td>\n",
       "      <td>Rejected</td>\n",
       "    </tr>\n",
       "    <tr>\n",
       "      <th>2</th>\n",
       "      <td>Graduate</td>\n",
       "      <td>No</td>\n",
       "      <td>Rejected</td>\n",
       "    </tr>\n",
       "    <tr>\n",
       "      <th>3</th>\n",
       "      <td>Graduate</td>\n",
       "      <td>No</td>\n",
       "      <td>Rejected</td>\n",
       "    </tr>\n",
       "    <tr>\n",
       "      <th>4</th>\n",
       "      <td>Not Graduate</td>\n",
       "      <td>Yes</td>\n",
       "      <td>Rejected</td>\n",
       "    </tr>\n",
       "    <tr>\n",
       "      <th>...</th>\n",
       "      <td>...</td>\n",
       "      <td>...</td>\n",
       "      <td>...</td>\n",
       "    </tr>\n",
       "    <tr>\n",
       "      <th>4264</th>\n",
       "      <td>Graduate</td>\n",
       "      <td>Yes</td>\n",
       "      <td>Rejected</td>\n",
       "    </tr>\n",
       "    <tr>\n",
       "      <th>4265</th>\n",
       "      <td>Not Graduate</td>\n",
       "      <td>Yes</td>\n",
       "      <td>Approved</td>\n",
       "    </tr>\n",
       "    <tr>\n",
       "      <th>4266</th>\n",
       "      <td>Not Graduate</td>\n",
       "      <td>No</td>\n",
       "      <td>Rejected</td>\n",
       "    </tr>\n",
       "    <tr>\n",
       "      <th>4267</th>\n",
       "      <td>Not Graduate</td>\n",
       "      <td>No</td>\n",
       "      <td>Approved</td>\n",
       "    </tr>\n",
       "    <tr>\n",
       "      <th>4268</th>\n",
       "      <td>Graduate</td>\n",
       "      <td>No</td>\n",
       "      <td>Approved</td>\n",
       "    </tr>\n",
       "  </tbody>\n",
       "</table>\n",
       "<p>4269 rows × 3 columns</p>\n",
       "</div>"
      ],
      "text/plain": [
       "          Education self_employed loan_status\n",
       "0          Graduate            No    Approved\n",
       "1      Not Graduate           Yes    Rejected\n",
       "2          Graduate            No    Rejected\n",
       "3          Graduate            No    Rejected\n",
       "4      Not Graduate           Yes    Rejected\n",
       "...             ...           ...         ...\n",
       "4264       Graduate           Yes    Rejected\n",
       "4265   Not Graduate           Yes    Approved\n",
       "4266   Not Graduate            No    Rejected\n",
       "4267   Not Graduate            No    Approved\n",
       "4268       Graduate            No    Approved\n",
       "\n",
       "[4269 rows x 3 columns]"
      ]
     },
     "execution_count": 40,
     "metadata": {},
     "output_type": "execute_result"
    }
   ],
   "source": [
    "df_cat=df1.select_dtypes(include=[object])\n",
    "df_cat"
   ]
  },
  {
   "cell_type": "code",
   "execution_count": 41,
   "id": "6fac6494",
   "metadata": {},
   "outputs": [],
   "source": [
    "from sklearn.preprocessing import StandardScaler\n",
    "from sklearn.preprocessing import MinMaxScaler"
   ]
  },
  {
   "cell_type": "code",
   "execution_count": 52,
   "id": "fe671341",
   "metadata": {},
   "outputs": [],
   "source": [
    "# using MinMax Scaler "
   ]
  },
  {
   "cell_type": "code",
   "execution_count": 42,
   "id": "e3d37a6f",
   "metadata": {},
   "outputs": [
    {
     "data": {
      "text/html": [
       "<div>\n",
       "<style scoped>\n",
       "    .dataframe tbody tr th:only-of-type {\n",
       "        vertical-align: middle;\n",
       "    }\n",
       "\n",
       "    .dataframe tbody tr th {\n",
       "        vertical-align: top;\n",
       "    }\n",
       "\n",
       "    .dataframe thead th {\n",
       "        text-align: right;\n",
       "    }\n",
       "</style>\n",
       "<table border=\"1\" class=\"dataframe\">\n",
       "  <thead>\n",
       "    <tr style=\"text-align: right;\">\n",
       "      <th></th>\n",
       "      <th>No_of_dependents</th>\n",
       "      <th>income_annum</th>\n",
       "      <th>loan_amount</th>\n",
       "      <th>loan_term</th>\n",
       "      <th>cibil_score</th>\n",
       "      <th>residential_assets_value</th>\n",
       "      <th>commercial_assets_value</th>\n",
       "      <th>luxury_assets_value</th>\n",
       "      <th>bank_asset_value</th>\n",
       "    </tr>\n",
       "  </thead>\n",
       "  <tbody>\n",
       "    <tr>\n",
       "      <th>0</th>\n",
       "      <td>0.4</td>\n",
       "      <td>0.969072</td>\n",
       "      <td>0.755102</td>\n",
       "      <td>0.555556</td>\n",
       "      <td>0.796667</td>\n",
       "      <td>0.085616</td>\n",
       "      <td>0.907216</td>\n",
       "      <td>0.575835</td>\n",
       "      <td>0.544218</td>\n",
       "    </tr>\n",
       "    <tr>\n",
       "      <th>1</th>\n",
       "      <td>0.0</td>\n",
       "      <td>0.402062</td>\n",
       "      <td>0.303571</td>\n",
       "      <td>0.333333</td>\n",
       "      <td>0.195000</td>\n",
       "      <td>0.095890</td>\n",
       "      <td>0.113402</td>\n",
       "      <td>0.218509</td>\n",
       "      <td>0.224490</td>\n",
       "    </tr>\n",
       "    <tr>\n",
       "      <th>2</th>\n",
       "      <td>0.6</td>\n",
       "      <td>0.917526</td>\n",
       "      <td>0.750000</td>\n",
       "      <td>1.000000</td>\n",
       "      <td>0.343333</td>\n",
       "      <td>0.246575</td>\n",
       "      <td>0.231959</td>\n",
       "      <td>0.848329</td>\n",
       "      <td>0.870748</td>\n",
       "    </tr>\n",
       "    <tr>\n",
       "      <th>3</th>\n",
       "      <td>0.6</td>\n",
       "      <td>0.824742</td>\n",
       "      <td>0.775510</td>\n",
       "      <td>0.333333</td>\n",
       "      <td>0.278333</td>\n",
       "      <td>0.626712</td>\n",
       "      <td>0.170103</td>\n",
       "      <td>0.591260</td>\n",
       "      <td>0.537415</td>\n",
       "    </tr>\n",
       "    <tr>\n",
       "      <th>4</th>\n",
       "      <td>1.0</td>\n",
       "      <td>0.989691</td>\n",
       "      <td>0.609694</td>\n",
       "      <td>1.000000</td>\n",
       "      <td>0.136667</td>\n",
       "      <td>0.428082</td>\n",
       "      <td>0.422680</td>\n",
       "      <td>0.748072</td>\n",
       "      <td>0.340136</td>\n",
       "    </tr>\n",
       "    <tr>\n",
       "      <th>...</th>\n",
       "      <td>...</td>\n",
       "      <td>...</td>\n",
       "      <td>...</td>\n",
       "      <td>...</td>\n",
       "      <td>...</td>\n",
       "      <td>...</td>\n",
       "      <td>...</td>\n",
       "      <td>...</td>\n",
       "      <td>...</td>\n",
       "    </tr>\n",
       "    <tr>\n",
       "      <th>4264</th>\n",
       "      <td>1.0</td>\n",
       "      <td>0.082474</td>\n",
       "      <td>0.051020</td>\n",
       "      <td>0.555556</td>\n",
       "      <td>0.028333</td>\n",
       "      <td>0.099315</td>\n",
       "      <td>0.025773</td>\n",
       "      <td>0.077121</td>\n",
       "      <td>0.054422</td>\n",
       "    </tr>\n",
       "    <tr>\n",
       "      <th>4265</th>\n",
       "      <td>0.0</td>\n",
       "      <td>0.319588</td>\n",
       "      <td>0.280612</td>\n",
       "      <td>1.000000</td>\n",
       "      <td>0.431667</td>\n",
       "      <td>0.147260</td>\n",
       "      <td>0.149485</td>\n",
       "      <td>0.275064</td>\n",
       "      <td>0.129252</td>\n",
       "    </tr>\n",
       "    <tr>\n",
       "      <th>4266</th>\n",
       "      <td>0.4</td>\n",
       "      <td>0.649485</td>\n",
       "      <td>0.602041</td>\n",
       "      <td>0.888889</td>\n",
       "      <td>0.261667</td>\n",
       "      <td>0.044521</td>\n",
       "      <td>0.639175</td>\n",
       "      <td>0.457584</td>\n",
       "      <td>0.496599</td>\n",
       "    </tr>\n",
       "    <tr>\n",
       "      <th>4267</th>\n",
       "      <td>0.2</td>\n",
       "      <td>0.402062</td>\n",
       "      <td>0.318878</td>\n",
       "      <td>0.333333</td>\n",
       "      <td>0.800000</td>\n",
       "      <td>0.284247</td>\n",
       "      <td>0.036082</td>\n",
       "      <td>0.354756</td>\n",
       "      <td>0.394558</td>\n",
       "    </tr>\n",
       "    <tr>\n",
       "      <th>4268</th>\n",
       "      <td>0.2</td>\n",
       "      <td>0.927835</td>\n",
       "      <td>0.750000</td>\n",
       "      <td>0.444444</td>\n",
       "      <td>0.511667</td>\n",
       "      <td>0.613014</td>\n",
       "      <td>0.608247</td>\n",
       "      <td>0.910026</td>\n",
       "      <td>0.816327</td>\n",
       "    </tr>\n",
       "  </tbody>\n",
       "</table>\n",
       "<p>4269 rows × 9 columns</p>\n",
       "</div>"
      ],
      "text/plain": [
       "      No_of_dependents  income_annum  loan_amount  loan_term  cibil_score  \\\n",
       "0                  0.4      0.969072     0.755102   0.555556     0.796667   \n",
       "1                  0.0      0.402062     0.303571   0.333333     0.195000   \n",
       "2                  0.6      0.917526     0.750000   1.000000     0.343333   \n",
       "3                  0.6      0.824742     0.775510   0.333333     0.278333   \n",
       "4                  1.0      0.989691     0.609694   1.000000     0.136667   \n",
       "...                ...           ...          ...        ...          ...   \n",
       "4264               1.0      0.082474     0.051020   0.555556     0.028333   \n",
       "4265               0.0      0.319588     0.280612   1.000000     0.431667   \n",
       "4266               0.4      0.649485     0.602041   0.888889     0.261667   \n",
       "4267               0.2      0.402062     0.318878   0.333333     0.800000   \n",
       "4268               0.2      0.927835     0.750000   0.444444     0.511667   \n",
       "\n",
       "      residential_assets_value  commercial_assets_value  luxury_assets_value  \\\n",
       "0                     0.085616                 0.907216             0.575835   \n",
       "1                     0.095890                 0.113402             0.218509   \n",
       "2                     0.246575                 0.231959             0.848329   \n",
       "3                     0.626712                 0.170103             0.591260   \n",
       "4                     0.428082                 0.422680             0.748072   \n",
       "...                        ...                      ...                  ...   \n",
       "4264                  0.099315                 0.025773             0.077121   \n",
       "4265                  0.147260                 0.149485             0.275064   \n",
       "4266                  0.044521                 0.639175             0.457584   \n",
       "4267                  0.284247                 0.036082             0.354756   \n",
       "4268                  0.613014                 0.608247             0.910026   \n",
       "\n",
       "      bank_asset_value  \n",
       "0             0.544218  \n",
       "1             0.224490  \n",
       "2             0.870748  \n",
       "3             0.537415  \n",
       "4             0.340136  \n",
       "...                ...  \n",
       "4264          0.054422  \n",
       "4265          0.129252  \n",
       "4266          0.496599  \n",
       "4267          0.394558  \n",
       "4268          0.816327  \n",
       "\n",
       "[4269 rows x 9 columns]"
      ]
     },
     "execution_count": 42,
     "metadata": {},
     "output_type": "execute_result"
    }
   ],
   "source": [
    "mm=MinMaxScaler()\n",
    "n=mm.fit_transform(df_num)\n",
    "df_mm=pd.DataFrame(n,columns=df_num.columns)\n",
    "df_mm"
   ]
  },
  {
   "cell_type": "code",
   "execution_count": 54,
   "id": "e6636c30",
   "metadata": {},
   "outputs": [],
   "source": [
    "#sc=StandardScaler()\n",
    "#c=sc.fit_transform(df_num)\n",
    "#df_sc=pd.DataFrame(c,columns=df_num.columns)\n",
    "#df_sc"
   ]
  },
  {
   "cell_type": "code",
   "execution_count": 55,
   "id": "267535d1",
   "metadata": {},
   "outputs": [],
   "source": [
    "# using Label encoding"
   ]
  },
  {
   "cell_type": "code",
   "execution_count": 43,
   "id": "7256a1d1",
   "metadata": {},
   "outputs": [
    {
     "data": {
      "text/plain": [
       "array([0, 1])"
      ]
     },
     "execution_count": 43,
     "metadata": {},
     "output_type": "execute_result"
    }
   ],
   "source": [
    "label_encoder = preprocessing.LabelEncoder() \n",
    "df_cat['Education']= label_encoder.fit_transform(df_cat['Education'])\n",
    "df_cat['Education'].unique()"
   ]
  },
  {
   "cell_type": "code",
   "execution_count": 44,
   "id": "fb1a0580",
   "metadata": {},
   "outputs": [
    {
     "data": {
      "text/plain": [
       "array([0, 1])"
      ]
     },
     "execution_count": 44,
     "metadata": {},
     "output_type": "execute_result"
    }
   ],
   "source": [
    "label_encoder = preprocessing.LabelEncoder() \n",
    "df_cat['self_employed']= label_encoder.fit_transform(df_cat['self_employed'])\n",
    "df_cat['self_employed'].unique()"
   ]
  },
  {
   "cell_type": "code",
   "execution_count": 45,
   "id": "e6514079",
   "metadata": {},
   "outputs": [
    {
     "data": {
      "text/plain": [
       "array([0, 1])"
      ]
     },
     "execution_count": 45,
     "metadata": {},
     "output_type": "execute_result"
    }
   ],
   "source": [
    "label_encoder = preprocessing.LabelEncoder() \n",
    "df_cat['loan_status']= label_encoder.fit_transform(df_cat['loan_status'])\n",
    "df_cat['loan_status'].unique()"
   ]
  },
  {
   "cell_type": "code",
   "execution_count": 46,
   "id": "28059467",
   "metadata": {},
   "outputs": [
    {
     "data": {
      "text/html": [
       "<div>\n",
       "<style scoped>\n",
       "    .dataframe tbody tr th:only-of-type {\n",
       "        vertical-align: middle;\n",
       "    }\n",
       "\n",
       "    .dataframe tbody tr th {\n",
       "        vertical-align: top;\n",
       "    }\n",
       "\n",
       "    .dataframe thead th {\n",
       "        text-align: right;\n",
       "    }\n",
       "</style>\n",
       "<table border=\"1\" class=\"dataframe\">\n",
       "  <thead>\n",
       "    <tr style=\"text-align: right;\">\n",
       "      <th></th>\n",
       "      <th>Education</th>\n",
       "      <th>self_employed</th>\n",
       "      <th>loan_status</th>\n",
       "    </tr>\n",
       "  </thead>\n",
       "  <tbody>\n",
       "    <tr>\n",
       "      <th>0</th>\n",
       "      <td>0</td>\n",
       "      <td>0</td>\n",
       "      <td>0</td>\n",
       "    </tr>\n",
       "    <tr>\n",
       "      <th>1</th>\n",
       "      <td>1</td>\n",
       "      <td>1</td>\n",
       "      <td>1</td>\n",
       "    </tr>\n",
       "    <tr>\n",
       "      <th>2</th>\n",
       "      <td>0</td>\n",
       "      <td>0</td>\n",
       "      <td>1</td>\n",
       "    </tr>\n",
       "    <tr>\n",
       "      <th>3</th>\n",
       "      <td>0</td>\n",
       "      <td>0</td>\n",
       "      <td>1</td>\n",
       "    </tr>\n",
       "    <tr>\n",
       "      <th>4</th>\n",
       "      <td>1</td>\n",
       "      <td>1</td>\n",
       "      <td>1</td>\n",
       "    </tr>\n",
       "    <tr>\n",
       "      <th>...</th>\n",
       "      <td>...</td>\n",
       "      <td>...</td>\n",
       "      <td>...</td>\n",
       "    </tr>\n",
       "    <tr>\n",
       "      <th>4264</th>\n",
       "      <td>0</td>\n",
       "      <td>1</td>\n",
       "      <td>1</td>\n",
       "    </tr>\n",
       "    <tr>\n",
       "      <th>4265</th>\n",
       "      <td>1</td>\n",
       "      <td>1</td>\n",
       "      <td>0</td>\n",
       "    </tr>\n",
       "    <tr>\n",
       "      <th>4266</th>\n",
       "      <td>1</td>\n",
       "      <td>0</td>\n",
       "      <td>1</td>\n",
       "    </tr>\n",
       "    <tr>\n",
       "      <th>4267</th>\n",
       "      <td>1</td>\n",
       "      <td>0</td>\n",
       "      <td>0</td>\n",
       "    </tr>\n",
       "    <tr>\n",
       "      <th>4268</th>\n",
       "      <td>0</td>\n",
       "      <td>0</td>\n",
       "      <td>0</td>\n",
       "    </tr>\n",
       "  </tbody>\n",
       "</table>\n",
       "<p>4269 rows × 3 columns</p>\n",
       "</div>"
      ],
      "text/plain": [
       "      Education  self_employed  loan_status\n",
       "0             0              0            0\n",
       "1             1              1            1\n",
       "2             0              0            1\n",
       "3             0              0            1\n",
       "4             1              1            1\n",
       "...         ...            ...          ...\n",
       "4264          0              1            1\n",
       "4265          1              1            0\n",
       "4266          1              0            1\n",
       "4267          1              0            0\n",
       "4268          0              0            0\n",
       "\n",
       "[4269 rows x 3 columns]"
      ]
     },
     "execution_count": 46,
     "metadata": {},
     "output_type": "execute_result"
    }
   ],
   "source": [
    "df_cat"
   ]
  },
  {
   "cell_type": "code",
   "execution_count": 47,
   "id": "daf94d42",
   "metadata": {},
   "outputs": [
    {
     "data": {
      "text/html": [
       "<div>\n",
       "<style scoped>\n",
       "    .dataframe tbody tr th:only-of-type {\n",
       "        vertical-align: middle;\n",
       "    }\n",
       "\n",
       "    .dataframe tbody tr th {\n",
       "        vertical-align: top;\n",
       "    }\n",
       "\n",
       "    .dataframe thead th {\n",
       "        text-align: right;\n",
       "    }\n",
       "</style>\n",
       "<table border=\"1\" class=\"dataframe\">\n",
       "  <thead>\n",
       "    <tr style=\"text-align: right;\">\n",
       "      <th></th>\n",
       "      <th>No_of_dependents</th>\n",
       "      <th>income_annum</th>\n",
       "      <th>loan_amount</th>\n",
       "      <th>loan_term</th>\n",
       "      <th>cibil_score</th>\n",
       "      <th>residential_assets_value</th>\n",
       "      <th>commercial_assets_value</th>\n",
       "      <th>luxury_assets_value</th>\n",
       "      <th>bank_asset_value</th>\n",
       "      <th>Education</th>\n",
       "      <th>self_employed</th>\n",
       "      <th>loan_status</th>\n",
       "    </tr>\n",
       "  </thead>\n",
       "  <tbody>\n",
       "    <tr>\n",
       "      <th>0</th>\n",
       "      <td>0.4</td>\n",
       "      <td>0.969072</td>\n",
       "      <td>0.755102</td>\n",
       "      <td>0.555556</td>\n",
       "      <td>0.796667</td>\n",
       "      <td>0.085616</td>\n",
       "      <td>0.907216</td>\n",
       "      <td>0.575835</td>\n",
       "      <td>0.544218</td>\n",
       "      <td>0</td>\n",
       "      <td>0</td>\n",
       "      <td>0</td>\n",
       "    </tr>\n",
       "    <tr>\n",
       "      <th>1</th>\n",
       "      <td>0.0</td>\n",
       "      <td>0.402062</td>\n",
       "      <td>0.303571</td>\n",
       "      <td>0.333333</td>\n",
       "      <td>0.195000</td>\n",
       "      <td>0.095890</td>\n",
       "      <td>0.113402</td>\n",
       "      <td>0.218509</td>\n",
       "      <td>0.224490</td>\n",
       "      <td>1</td>\n",
       "      <td>1</td>\n",
       "      <td>1</td>\n",
       "    </tr>\n",
       "    <tr>\n",
       "      <th>2</th>\n",
       "      <td>0.6</td>\n",
       "      <td>0.917526</td>\n",
       "      <td>0.750000</td>\n",
       "      <td>1.000000</td>\n",
       "      <td>0.343333</td>\n",
       "      <td>0.246575</td>\n",
       "      <td>0.231959</td>\n",
       "      <td>0.848329</td>\n",
       "      <td>0.870748</td>\n",
       "      <td>0</td>\n",
       "      <td>0</td>\n",
       "      <td>1</td>\n",
       "    </tr>\n",
       "    <tr>\n",
       "      <th>3</th>\n",
       "      <td>0.6</td>\n",
       "      <td>0.824742</td>\n",
       "      <td>0.775510</td>\n",
       "      <td>0.333333</td>\n",
       "      <td>0.278333</td>\n",
       "      <td>0.626712</td>\n",
       "      <td>0.170103</td>\n",
       "      <td>0.591260</td>\n",
       "      <td>0.537415</td>\n",
       "      <td>0</td>\n",
       "      <td>0</td>\n",
       "      <td>1</td>\n",
       "    </tr>\n",
       "    <tr>\n",
       "      <th>4</th>\n",
       "      <td>1.0</td>\n",
       "      <td>0.989691</td>\n",
       "      <td>0.609694</td>\n",
       "      <td>1.000000</td>\n",
       "      <td>0.136667</td>\n",
       "      <td>0.428082</td>\n",
       "      <td>0.422680</td>\n",
       "      <td>0.748072</td>\n",
       "      <td>0.340136</td>\n",
       "      <td>1</td>\n",
       "      <td>1</td>\n",
       "      <td>1</td>\n",
       "    </tr>\n",
       "    <tr>\n",
       "      <th>...</th>\n",
       "      <td>...</td>\n",
       "      <td>...</td>\n",
       "      <td>...</td>\n",
       "      <td>...</td>\n",
       "      <td>...</td>\n",
       "      <td>...</td>\n",
       "      <td>...</td>\n",
       "      <td>...</td>\n",
       "      <td>...</td>\n",
       "      <td>...</td>\n",
       "      <td>...</td>\n",
       "      <td>...</td>\n",
       "    </tr>\n",
       "    <tr>\n",
       "      <th>4264</th>\n",
       "      <td>1.0</td>\n",
       "      <td>0.082474</td>\n",
       "      <td>0.051020</td>\n",
       "      <td>0.555556</td>\n",
       "      <td>0.028333</td>\n",
       "      <td>0.099315</td>\n",
       "      <td>0.025773</td>\n",
       "      <td>0.077121</td>\n",
       "      <td>0.054422</td>\n",
       "      <td>0</td>\n",
       "      <td>1</td>\n",
       "      <td>1</td>\n",
       "    </tr>\n",
       "    <tr>\n",
       "      <th>4265</th>\n",
       "      <td>0.0</td>\n",
       "      <td>0.319588</td>\n",
       "      <td>0.280612</td>\n",
       "      <td>1.000000</td>\n",
       "      <td>0.431667</td>\n",
       "      <td>0.147260</td>\n",
       "      <td>0.149485</td>\n",
       "      <td>0.275064</td>\n",
       "      <td>0.129252</td>\n",
       "      <td>1</td>\n",
       "      <td>1</td>\n",
       "      <td>0</td>\n",
       "    </tr>\n",
       "    <tr>\n",
       "      <th>4266</th>\n",
       "      <td>0.4</td>\n",
       "      <td>0.649485</td>\n",
       "      <td>0.602041</td>\n",
       "      <td>0.888889</td>\n",
       "      <td>0.261667</td>\n",
       "      <td>0.044521</td>\n",
       "      <td>0.639175</td>\n",
       "      <td>0.457584</td>\n",
       "      <td>0.496599</td>\n",
       "      <td>1</td>\n",
       "      <td>0</td>\n",
       "      <td>1</td>\n",
       "    </tr>\n",
       "    <tr>\n",
       "      <th>4267</th>\n",
       "      <td>0.2</td>\n",
       "      <td>0.402062</td>\n",
       "      <td>0.318878</td>\n",
       "      <td>0.333333</td>\n",
       "      <td>0.800000</td>\n",
       "      <td>0.284247</td>\n",
       "      <td>0.036082</td>\n",
       "      <td>0.354756</td>\n",
       "      <td>0.394558</td>\n",
       "      <td>1</td>\n",
       "      <td>0</td>\n",
       "      <td>0</td>\n",
       "    </tr>\n",
       "    <tr>\n",
       "      <th>4268</th>\n",
       "      <td>0.2</td>\n",
       "      <td>0.927835</td>\n",
       "      <td>0.750000</td>\n",
       "      <td>0.444444</td>\n",
       "      <td>0.511667</td>\n",
       "      <td>0.613014</td>\n",
       "      <td>0.608247</td>\n",
       "      <td>0.910026</td>\n",
       "      <td>0.816327</td>\n",
       "      <td>0</td>\n",
       "      <td>0</td>\n",
       "      <td>0</td>\n",
       "    </tr>\n",
       "  </tbody>\n",
       "</table>\n",
       "<p>4269 rows × 12 columns</p>\n",
       "</div>"
      ],
      "text/plain": [
       "      No_of_dependents  income_annum  loan_amount  loan_term  cibil_score  \\\n",
       "0                  0.4      0.969072     0.755102   0.555556     0.796667   \n",
       "1                  0.0      0.402062     0.303571   0.333333     0.195000   \n",
       "2                  0.6      0.917526     0.750000   1.000000     0.343333   \n",
       "3                  0.6      0.824742     0.775510   0.333333     0.278333   \n",
       "4                  1.0      0.989691     0.609694   1.000000     0.136667   \n",
       "...                ...           ...          ...        ...          ...   \n",
       "4264               1.0      0.082474     0.051020   0.555556     0.028333   \n",
       "4265               0.0      0.319588     0.280612   1.000000     0.431667   \n",
       "4266               0.4      0.649485     0.602041   0.888889     0.261667   \n",
       "4267               0.2      0.402062     0.318878   0.333333     0.800000   \n",
       "4268               0.2      0.927835     0.750000   0.444444     0.511667   \n",
       "\n",
       "      residential_assets_value  commercial_assets_value  luxury_assets_value  \\\n",
       "0                     0.085616                 0.907216             0.575835   \n",
       "1                     0.095890                 0.113402             0.218509   \n",
       "2                     0.246575                 0.231959             0.848329   \n",
       "3                     0.626712                 0.170103             0.591260   \n",
       "4                     0.428082                 0.422680             0.748072   \n",
       "...                        ...                      ...                  ...   \n",
       "4264                  0.099315                 0.025773             0.077121   \n",
       "4265                  0.147260                 0.149485             0.275064   \n",
       "4266                  0.044521                 0.639175             0.457584   \n",
       "4267                  0.284247                 0.036082             0.354756   \n",
       "4268                  0.613014                 0.608247             0.910026   \n",
       "\n",
       "      bank_asset_value  Education  self_employed  loan_status  \n",
       "0             0.544218          0              0            0  \n",
       "1             0.224490          1              1            1  \n",
       "2             0.870748          0              0            1  \n",
       "3             0.537415          0              0            1  \n",
       "4             0.340136          1              1            1  \n",
       "...                ...        ...            ...          ...  \n",
       "4264          0.054422          0              1            1  \n",
       "4265          0.129252          1              1            0  \n",
       "4266          0.496599          1              0            1  \n",
       "4267          0.394558          1              0            0  \n",
       "4268          0.816327          0              0            0  \n",
       "\n",
       "[4269 rows x 12 columns]"
      ]
     },
     "execution_count": 47,
     "metadata": {},
     "output_type": "execute_result"
    }
   ],
   "source": [
    "df_pre=pd.concat([df_mm,df_cat],axis=1)\n",
    "df_pre"
   ]
  },
  {
   "cell_type": "code",
   "execution_count": 48,
   "id": "cbcddf18",
   "metadata": {},
   "outputs": [
    {
     "data": {
      "text/html": [
       "<div>\n",
       "<style scoped>\n",
       "    .dataframe tbody tr th:only-of-type {\n",
       "        vertical-align: middle;\n",
       "    }\n",
       "\n",
       "    .dataframe tbody tr th {\n",
       "        vertical-align: top;\n",
       "    }\n",
       "\n",
       "    .dataframe thead th {\n",
       "        text-align: right;\n",
       "    }\n",
       "</style>\n",
       "<table border=\"1\" class=\"dataframe\">\n",
       "  <thead>\n",
       "    <tr style=\"text-align: right;\">\n",
       "      <th></th>\n",
       "      <th>No_of_dependents</th>\n",
       "      <th>income_annum</th>\n",
       "      <th>loan_amount</th>\n",
       "      <th>loan_term</th>\n",
       "      <th>cibil_score</th>\n",
       "      <th>residential_assets_value</th>\n",
       "      <th>commercial_assets_value</th>\n",
       "      <th>luxury_assets_value</th>\n",
       "      <th>bank_asset_value</th>\n",
       "      <th>Education</th>\n",
       "      <th>self_employed</th>\n",
       "      <th>loan_status</th>\n",
       "    </tr>\n",
       "  </thead>\n",
       "  <tbody>\n",
       "    <tr>\n",
       "      <th>0</th>\n",
       "      <td>0.4</td>\n",
       "      <td>0.969072</td>\n",
       "      <td>0.755102</td>\n",
       "      <td>0.555556</td>\n",
       "      <td>0.796667</td>\n",
       "      <td>0.085616</td>\n",
       "      <td>0.907216</td>\n",
       "      <td>0.575835</td>\n",
       "      <td>0.544218</td>\n",
       "      <td>0</td>\n",
       "      <td>0</td>\n",
       "      <td>0</td>\n",
       "    </tr>\n",
       "    <tr>\n",
       "      <th>1</th>\n",
       "      <td>0.0</td>\n",
       "      <td>0.402062</td>\n",
       "      <td>0.303571</td>\n",
       "      <td>0.333333</td>\n",
       "      <td>0.195000</td>\n",
       "      <td>0.095890</td>\n",
       "      <td>0.113402</td>\n",
       "      <td>0.218509</td>\n",
       "      <td>0.224490</td>\n",
       "      <td>1</td>\n",
       "      <td>1</td>\n",
       "      <td>1</td>\n",
       "    </tr>\n",
       "    <tr>\n",
       "      <th>2</th>\n",
       "      <td>0.6</td>\n",
       "      <td>0.917526</td>\n",
       "      <td>0.750000</td>\n",
       "      <td>1.000000</td>\n",
       "      <td>0.343333</td>\n",
       "      <td>0.246575</td>\n",
       "      <td>0.231959</td>\n",
       "      <td>0.848329</td>\n",
       "      <td>0.870748</td>\n",
       "      <td>0</td>\n",
       "      <td>0</td>\n",
       "      <td>1</td>\n",
       "    </tr>\n",
       "    <tr>\n",
       "      <th>3</th>\n",
       "      <td>0.6</td>\n",
       "      <td>0.824742</td>\n",
       "      <td>0.775510</td>\n",
       "      <td>0.333333</td>\n",
       "      <td>0.278333</td>\n",
       "      <td>0.626712</td>\n",
       "      <td>0.170103</td>\n",
       "      <td>0.591260</td>\n",
       "      <td>0.537415</td>\n",
       "      <td>0</td>\n",
       "      <td>0</td>\n",
       "      <td>1</td>\n",
       "    </tr>\n",
       "    <tr>\n",
       "      <th>4</th>\n",
       "      <td>1.0</td>\n",
       "      <td>0.989691</td>\n",
       "      <td>0.609694</td>\n",
       "      <td>1.000000</td>\n",
       "      <td>0.136667</td>\n",
       "      <td>0.428082</td>\n",
       "      <td>0.422680</td>\n",
       "      <td>0.748072</td>\n",
       "      <td>0.340136</td>\n",
       "      <td>1</td>\n",
       "      <td>1</td>\n",
       "      <td>1</td>\n",
       "    </tr>\n",
       "    <tr>\n",
       "      <th>...</th>\n",
       "      <td>...</td>\n",
       "      <td>...</td>\n",
       "      <td>...</td>\n",
       "      <td>...</td>\n",
       "      <td>...</td>\n",
       "      <td>...</td>\n",
       "      <td>...</td>\n",
       "      <td>...</td>\n",
       "      <td>...</td>\n",
       "      <td>...</td>\n",
       "      <td>...</td>\n",
       "      <td>...</td>\n",
       "    </tr>\n",
       "    <tr>\n",
       "      <th>4264</th>\n",
       "      <td>1.0</td>\n",
       "      <td>0.082474</td>\n",
       "      <td>0.051020</td>\n",
       "      <td>0.555556</td>\n",
       "      <td>0.028333</td>\n",
       "      <td>0.099315</td>\n",
       "      <td>0.025773</td>\n",
       "      <td>0.077121</td>\n",
       "      <td>0.054422</td>\n",
       "      <td>0</td>\n",
       "      <td>1</td>\n",
       "      <td>1</td>\n",
       "    </tr>\n",
       "    <tr>\n",
       "      <th>4265</th>\n",
       "      <td>0.0</td>\n",
       "      <td>0.319588</td>\n",
       "      <td>0.280612</td>\n",
       "      <td>1.000000</td>\n",
       "      <td>0.431667</td>\n",
       "      <td>0.147260</td>\n",
       "      <td>0.149485</td>\n",
       "      <td>0.275064</td>\n",
       "      <td>0.129252</td>\n",
       "      <td>1</td>\n",
       "      <td>1</td>\n",
       "      <td>0</td>\n",
       "    </tr>\n",
       "    <tr>\n",
       "      <th>4266</th>\n",
       "      <td>0.4</td>\n",
       "      <td>0.649485</td>\n",
       "      <td>0.602041</td>\n",
       "      <td>0.888889</td>\n",
       "      <td>0.261667</td>\n",
       "      <td>0.044521</td>\n",
       "      <td>0.639175</td>\n",
       "      <td>0.457584</td>\n",
       "      <td>0.496599</td>\n",
       "      <td>1</td>\n",
       "      <td>0</td>\n",
       "      <td>1</td>\n",
       "    </tr>\n",
       "    <tr>\n",
       "      <th>4267</th>\n",
       "      <td>0.2</td>\n",
       "      <td>0.402062</td>\n",
       "      <td>0.318878</td>\n",
       "      <td>0.333333</td>\n",
       "      <td>0.800000</td>\n",
       "      <td>0.284247</td>\n",
       "      <td>0.036082</td>\n",
       "      <td>0.354756</td>\n",
       "      <td>0.394558</td>\n",
       "      <td>1</td>\n",
       "      <td>0</td>\n",
       "      <td>0</td>\n",
       "    </tr>\n",
       "    <tr>\n",
       "      <th>4268</th>\n",
       "      <td>0.2</td>\n",
       "      <td>0.927835</td>\n",
       "      <td>0.750000</td>\n",
       "      <td>0.444444</td>\n",
       "      <td>0.511667</td>\n",
       "      <td>0.613014</td>\n",
       "      <td>0.608247</td>\n",
       "      <td>0.910026</td>\n",
       "      <td>0.816327</td>\n",
       "      <td>0</td>\n",
       "      <td>0</td>\n",
       "      <td>0</td>\n",
       "    </tr>\n",
       "  </tbody>\n",
       "</table>\n",
       "<p>4269 rows × 12 columns</p>\n",
       "</div>"
      ],
      "text/plain": [
       "      No_of_dependents  income_annum  loan_amount  loan_term  cibil_score  \\\n",
       "0                  0.4      0.969072     0.755102   0.555556     0.796667   \n",
       "1                  0.0      0.402062     0.303571   0.333333     0.195000   \n",
       "2                  0.6      0.917526     0.750000   1.000000     0.343333   \n",
       "3                  0.6      0.824742     0.775510   0.333333     0.278333   \n",
       "4                  1.0      0.989691     0.609694   1.000000     0.136667   \n",
       "...                ...           ...          ...        ...          ...   \n",
       "4264               1.0      0.082474     0.051020   0.555556     0.028333   \n",
       "4265               0.0      0.319588     0.280612   1.000000     0.431667   \n",
       "4266               0.4      0.649485     0.602041   0.888889     0.261667   \n",
       "4267               0.2      0.402062     0.318878   0.333333     0.800000   \n",
       "4268               0.2      0.927835     0.750000   0.444444     0.511667   \n",
       "\n",
       "      residential_assets_value  commercial_assets_value  luxury_assets_value  \\\n",
       "0                     0.085616                 0.907216             0.575835   \n",
       "1                     0.095890                 0.113402             0.218509   \n",
       "2                     0.246575                 0.231959             0.848329   \n",
       "3                     0.626712                 0.170103             0.591260   \n",
       "4                     0.428082                 0.422680             0.748072   \n",
       "...                        ...                      ...                  ...   \n",
       "4264                  0.099315                 0.025773             0.077121   \n",
       "4265                  0.147260                 0.149485             0.275064   \n",
       "4266                  0.044521                 0.639175             0.457584   \n",
       "4267                  0.284247                 0.036082             0.354756   \n",
       "4268                  0.613014                 0.608247             0.910026   \n",
       "\n",
       "      bank_asset_value  Education  self_employed  loan_status  \n",
       "0             0.544218          0              0            0  \n",
       "1             0.224490          1              1            1  \n",
       "2             0.870748          0              0            1  \n",
       "3             0.537415          0              0            1  \n",
       "4             0.340136          1              1            1  \n",
       "...                ...        ...            ...          ...  \n",
       "4264          0.054422          0              1            1  \n",
       "4265          0.129252          1              1            0  \n",
       "4266          0.496599          1              0            1  \n",
       "4267          0.394558          1              0            0  \n",
       "4268          0.816327          0              0            0  \n",
       "\n",
       "[4269 rows x 12 columns]"
      ]
     },
     "execution_count": 48,
     "metadata": {},
     "output_type": "execute_result"
    }
   ],
   "source": [
    "x1=df_pre.iloc[:,:12]\n",
    "x1"
   ]
  },
  {
   "cell_type": "code",
   "execution_count": 49,
   "id": "9ccb359f",
   "metadata": {},
   "outputs": [
    {
     "data": {
      "text/html": [
       "<div>\n",
       "<style scoped>\n",
       "    .dataframe tbody tr th:only-of-type {\n",
       "        vertical-align: middle;\n",
       "    }\n",
       "\n",
       "    .dataframe tbody tr th {\n",
       "        vertical-align: top;\n",
       "    }\n",
       "\n",
       "    .dataframe thead th {\n",
       "        text-align: right;\n",
       "    }\n",
       "</style>\n",
       "<table border=\"1\" class=\"dataframe\">\n",
       "  <thead>\n",
       "    <tr style=\"text-align: right;\">\n",
       "      <th></th>\n",
       "      <th>loan_status</th>\n",
       "    </tr>\n",
       "  </thead>\n",
       "  <tbody>\n",
       "    <tr>\n",
       "      <th>0</th>\n",
       "      <td>0</td>\n",
       "    </tr>\n",
       "    <tr>\n",
       "      <th>1</th>\n",
       "      <td>1</td>\n",
       "    </tr>\n",
       "    <tr>\n",
       "      <th>2</th>\n",
       "      <td>1</td>\n",
       "    </tr>\n",
       "    <tr>\n",
       "      <th>3</th>\n",
       "      <td>1</td>\n",
       "    </tr>\n",
       "    <tr>\n",
       "      <th>4</th>\n",
       "      <td>1</td>\n",
       "    </tr>\n",
       "    <tr>\n",
       "      <th>...</th>\n",
       "      <td>...</td>\n",
       "    </tr>\n",
       "    <tr>\n",
       "      <th>4264</th>\n",
       "      <td>1</td>\n",
       "    </tr>\n",
       "    <tr>\n",
       "      <th>4265</th>\n",
       "      <td>0</td>\n",
       "    </tr>\n",
       "    <tr>\n",
       "      <th>4266</th>\n",
       "      <td>1</td>\n",
       "    </tr>\n",
       "    <tr>\n",
       "      <th>4267</th>\n",
       "      <td>0</td>\n",
       "    </tr>\n",
       "    <tr>\n",
       "      <th>4268</th>\n",
       "      <td>0</td>\n",
       "    </tr>\n",
       "  </tbody>\n",
       "</table>\n",
       "<p>4269 rows × 1 columns</p>\n",
       "</div>"
      ],
      "text/plain": [
       "      loan_status\n",
       "0               0\n",
       "1               1\n",
       "2               1\n",
       "3               1\n",
       "4               1\n",
       "...           ...\n",
       "4264            1\n",
       "4265            0\n",
       "4266            1\n",
       "4267            0\n",
       "4268            0\n",
       "\n",
       "[4269 rows x 1 columns]"
      ]
     },
     "execution_count": 49,
     "metadata": {},
     "output_type": "execute_result"
    }
   ],
   "source": [
    "y1=df_pre.iloc[:,[-1]]\n",
    "y1"
   ]
  },
  {
   "cell_type": "code",
   "execution_count": 50,
   "id": "37bc4f8d",
   "metadata": {},
   "outputs": [],
   "source": [
    "x_trainn,x_testt,y_trainn,y_testt=train_test_split(x1,y1,random_state=94,test_size=0.30,shuffle=True)"
   ]
  },
  {
   "cell_type": "code",
   "execution_count": 51,
   "id": "ed6fcf61",
   "metadata": {},
   "outputs": [
    {
     "name": "stdout",
     "output_type": "stream",
     "text": [
      "100.0\n"
     ]
    },
    {
     "name": "stderr",
     "output_type": "stream",
     "text": [
      "C:\\Users\\dhana\\anaconda3\\Lib\\site-packages\\sklearn\\utils\\validation.py:1143: DataConversionWarning: A column-vector y was passed when a 1d array was expected. Please change the shape of y to (n_samples, ), for example using ravel().\n",
      "  y = column_or_1d(y, warn=True)\n"
     ]
    }
   ],
   "source": [
    "#LOGISTIC REGRESSION\n",
    "from sklearn.linear_model import LogisticRegression\n",
    "from sklearn.metrics import accuracy_score, confusion_matrix, precision_score, recall_score\n",
    "from sklearn.metrics import classification_report\n",
    "logregg = LogisticRegression(random_state=92)\n",
    "logregg.fit(x_trainn,y_trainn)\n",
    "y_predd=logregg.predict(x_testt)\n",
    "ac=accuracy_score(y_testt,y_predd)\n",
    "print(ac*100)"
   ]
  },
  {
   "cell_type": "code",
   "execution_count": 52,
   "id": "07370ef3",
   "metadata": {},
   "outputs": [
    {
     "data": {
      "text/plain": [
       "1.0"
      ]
     },
     "execution_count": 52,
     "metadata": {},
     "output_type": "execute_result"
    }
   ],
   "source": [
    "pss=precision_score(y_testt,y_predd)\n",
    "pss"
   ]
  },
  {
   "cell_type": "code",
   "execution_count": 53,
   "id": "c129993a",
   "metadata": {},
   "outputs": [
    {
     "data": {
      "text/plain": [
       "1.0"
      ]
     },
     "execution_count": 53,
     "metadata": {},
     "output_type": "execute_result"
    }
   ],
   "source": [
    "rcc=recall_score(y_testt,y_predd)\n",
    "rcc"
   ]
  },
  {
   "cell_type": "code",
   "execution_count": 54,
   "id": "fe153b34",
   "metadata": {},
   "outputs": [
    {
     "data": {
      "text/plain": [
       "array([[817,   0],\n",
       "       [  0, 464]], dtype=int64)"
      ]
     },
     "execution_count": 54,
     "metadata": {},
     "output_type": "execute_result"
    }
   ],
   "source": [
    "cmm=confusion_matrix(y_testt,y_predd)\n",
    "cmm"
   ]
  },
  {
   "cell_type": "code",
   "execution_count": 55,
   "id": "c73c2f34",
   "metadata": {},
   "outputs": [
    {
     "data": {
      "image/png": "[encoded data removed]",
      "text/plain": [
       "<Figure size 640x480 with 2 Axes>"
      ]
     },
     "metadata": {},
     "output_type": "display_data"
    }
   ],
   "source": [
    "sns.heatmap(cmm,annot=True,fmt='g')\n",
    "plt.ylabel('Prediction',fontsize=13)\n",
    "plt.xlabel('Actual',fontsize=13)\n",
    "plt.title('Confusion Matrix', fontsize=17)\n",
    "plt.show()"
   ]
  },
  {
   "cell_type": "code",
   "execution_count": 56,
   "id": "bc1af572",
   "metadata": {},
   "outputs": [
    {
     "name": "stdout",
     "output_type": "stream",
     "text": [
      "              precision    recall  f1-score   support\n",
      "\n",
      "           1       1.00      1.00      1.00       464\n",
      "\n",
      "   micro avg       1.00      1.00      1.00       464\n",
      "   macro avg       1.00      1.00      1.00       464\n",
      "weighted avg       1.00      1.00      1.00       464\n",
      "\n"
     ]
    }
   ],
   "source": [
    "print(classification_report(y_testt,y_predd,labels=[1]))"
   ]
  },
  {
   "cell_type": "code",
   "execution_count": 74,
   "id": "c530b597",
   "metadata": {},
   "outputs": [],
   "source": [
    "# using scaled numerical data in LOGISTIC REGRESSION algorithm\n",
    "# The ACCURACY is 91%.\n",
    "# The False Negative value is 56."
   ]
  },
  {
   "cell_type": "code",
   "execution_count": 57,
   "id": "56d3536f",
   "metadata": {},
   "outputs": [
    {
     "name": "stderr",
     "output_type": "stream",
     "text": [
      "C:\\Users\\dhana\\AppData\\Local\\Temp\\ipykernel_19996\\1593659072.py:4: DataConversionWarning: A column-vector y was passed when a 1d array was expected. Please change the shape of y to (n_samples,), for example using ravel().\n",
      "  Classifierr.fit(x_trainn,y_trainn)\n"
     ]
    },
    {
     "name": "stdout",
     "output_type": "stream",
     "text": [
      "100.0\n"
     ]
    }
   ],
   "source": [
    "#RANDOM FOREST\n",
    "from sklearn.ensemble import RandomForestClassifier\n",
    "Classifierr= RandomForestClassifier(n_estimators= 100, criterion= \"entropy\")\n",
    "Classifierr.fit(x_trainn,y_trainn)\n",
    "y_predd1=Classifierr.predict(x_testt)\n",
    "ac1=accuracy_score(y_testt,y_predd1)\n",
    "print(ac1*100)"
   ]
  },
  {
   "cell_type": "code",
   "execution_count": 58,
   "id": "fc8ca09b",
   "metadata": {},
   "outputs": [
    {
     "data": {
      "text/plain": [
       "1.0"
      ]
     },
     "execution_count": 58,
     "metadata": {},
     "output_type": "execute_result"
    }
   ],
   "source": [
    "pcc1=precision_score(y_testt,y_predd1)\n",
    "pcc1"
   ]
  },
  {
   "cell_type": "code",
   "execution_count": 59,
   "id": "7c0c4799",
   "metadata": {},
   "outputs": [
    {
     "data": {
      "text/plain": [
       "1.0"
      ]
     },
     "execution_count": 59,
     "metadata": {},
     "output_type": "execute_result"
    }
   ],
   "source": [
    "rcc1=recall_score(y_testt,y_predd1)\n",
    "rcc1"
   ]
  },
  {
   "cell_type": "code",
   "execution_count": 60,
   "id": "64270041",
   "metadata": {},
   "outputs": [
    {
     "data": {
      "text/plain": [
       "array([[817,   0],\n",
       "       [  0, 464]], dtype=int64)"
      ]
     },
     "execution_count": 60,
     "metadata": {},
     "output_type": "execute_result"
    }
   ],
   "source": [
    "cmm1=confusion_matrix(y_testt,y_predd1)\n",
    "cmm1"
   ]
  },
  {
   "cell_type": "code",
   "execution_count": 61,
   "id": "da05be82",
   "metadata": {},
   "outputs": [
    {
     "data": {
      "image/png": "[encoded data removed]",
      "text/plain": [
       "<Figure size 640x480 with 2 Axes>"
      ]
     },
     "metadata": {},
     "output_type": "display_data"
    }
   ],
   "source": [
    "sns.heatmap(cmm1,annot=True,fmt='g')\n",
    "plt.ylabel('Prediction',fontsize=13)\n",
    "plt.xlabel('Actual',fontsize=13)\n",
    "plt.title('Confusion Matrix', fontsize=17)\n",
    "plt.show()"
   ]
  },
  {
   "cell_type": "code",
   "execution_count": 62,
   "id": "0d7d08e2",
   "metadata": {},
   "outputs": [
    {
     "name": "stdout",
     "output_type": "stream",
     "text": [
      "              precision    recall  f1-score   support\n",
      "\n",
      "           1       1.00      1.00      1.00       464\n",
      "\n",
      "   micro avg       1.00      1.00      1.00       464\n",
      "   macro avg       1.00      1.00      1.00       464\n",
      "weighted avg       1.00      1.00      1.00       464\n",
      "\n"
     ]
    }
   ],
   "source": [
    "print(classification_report(y_testt,y_predd1,labels=[1]))"
   ]
  },
  {
   "cell_type": "code",
   "execution_count": 63,
   "id": "be2fcede",
   "metadata": {},
   "outputs": [
    {
     "name": "stdout",
     "output_type": "stream",
     "text": [
      "100.0\n"
     ]
    }
   ],
   "source": [
    "#DECISION TREE ALGORITHM\n",
    "from sklearn.tree import DecisionTreeClassifier\n",
    "dtreee=DecisionTreeClassifier(criterion='gini',max_depth=5,min_samples_split=2,min_samples_leaf=1)\n",
    "dtreee.fit(x_trainn,y_trainn)\n",
    "y_predd2=dtreee.predict(x_testt)\n",
    "ac2=accuracy_score(y_testt,y_predd2)\n",
    "print(ac2*100)"
   ]
  },
  {
   "cell_type": "code",
   "execution_count": 64,
   "id": "a474e393",
   "metadata": {},
   "outputs": [
    {
     "data": {
      "text/plain": [
       "1.0"
      ]
     },
     "execution_count": 64,
     "metadata": {},
     "output_type": "execute_result"
    }
   ],
   "source": [
    "pss2=precision_score(y_testt,y_predd2)\n",
    "pss2"
   ]
  },
  {
   "cell_type": "code",
   "execution_count": 65,
   "id": "a8599445",
   "metadata": {},
   "outputs": [
    {
     "data": {
      "text/plain": [
       "1.0"
      ]
     },
     "execution_count": 65,
     "metadata": {},
     "output_type": "execute_result"
    }
   ],
   "source": [
    "rcc2=recall_score(y_testt,y_predd2)\n",
    "rcc2"
   ]
  },
  {
   "cell_type": "code",
   "execution_count": 66,
   "id": "0f90ff6f",
   "metadata": {},
   "outputs": [
    {
     "data": {
      "text/plain": [
       "array([[817,   0],\n",
       "       [  0, 464]], dtype=int64)"
      ]
     },
     "execution_count": 66,
     "metadata": {},
     "output_type": "execute_result"
    }
   ],
   "source": [
    "cmm2=confusion_matrix(y_testt,y_predd2)\n",
    "cmm2"
   ]
  },
  {
   "cell_type": "code",
   "execution_count": 67,
   "id": "48ee7f58",
   "metadata": {},
   "outputs": [
    {
     "data": {
      "image/png": "[encoded data removed]",
      "text/plain": [
       "<Figure size 640x480 with 2 Axes>"
      ]
     },
     "metadata": {},
     "output_type": "display_data"
    }
   ],
   "source": [
    "sns.heatmap(cmm2,annot=True,fmt='g')\n",
    "plt.ylabel('Prediction',fontsize=13)\n",
    "plt.xlabel('Actual',fontsize=13)\n",
    "plt.title('Confusion Matrix', fontsize=17)\n",
    "plt.show()"
   ]
  },
  {
   "cell_type": "code",
   "execution_count": 68,
   "id": "6731ae21",
   "metadata": {},
   "outputs": [
    {
     "name": "stdout",
     "output_type": "stream",
     "text": [
      "              precision    recall  f1-score   support\n",
      "\n",
      "           1       1.00      1.00      1.00       464\n",
      "\n",
      "   micro avg       1.00      1.00      1.00       464\n",
      "   macro avg       1.00      1.00      1.00       464\n",
      "weighted avg       1.00      1.00      1.00       464\n",
      "\n"
     ]
    }
   ],
   "source": [
    "print(classification_report(y_testt,y_predd2,labels=[1]))"
   ]
  },
  {
   "cell_type": "code",
   "execution_count": 87,
   "id": "e6886d68",
   "metadata": {},
   "outputs": [],
   "source": []
  },
  {
   "cell_type": "code",
   "execution_count": null,
   "id": "cb78266f",
   "metadata": {},
   "outputs": [],
   "source": [
    "# SCALED DATA CONCLUSION\n",
    "# Here i've used LOGISTIC REGRESSION, RANDOM FOREST AND DECISION TREE algorithms \n",
    "\n",
    "    ALGORITHMS              ACC (%)     PS       RC     FN\n",
    "------------------------------------------------------------\n",
    "1) Logistic regression       100        1        1      1\n",
    "2) Random forest             100        1        1      1\n",
    "3) Decision tree             100        1        1      1"
   ]
  },
  {
   "cell_type": "code",
   "execution_count": 69,
   "id": "1dae3d08",
   "metadata": {},
   "outputs": [
    {
     "data": {
      "text/plain": [
       "<matplotlib.legend.Legend at 0x29911c03410>"
      ]
     },
     "execution_count": 69,
     "metadata": {},
     "output_type": "execute_result"
    },
    {
     "data": {
      "image/png": "[encoded data removed]",
      "text/plain": [
       "<Figure size 640x480 with 1 Axes>"
      ]
     },
     "metadata": {},
     "output_type": "display_data"
    }
   ],
   "source": [
    "#Bar plot between annual income and loan amount\n",
    "import matplotlib.pyplot as plt\n",
    "crosstb = pd.crosstab(df1.loan_status,df1.self_employed)\n",
    "barplot = crosstb.plot.bar(rot=0)\n",
    "barplot.legend(title='self_employed', bbox_to_anchor=(1, 1.02), loc='upper left')"
   ]
  },
  {
   "cell_type": "code",
   "execution_count": 91,
   "id": "7553cbe7",
   "metadata": {},
   "outputs": [],
   "source": [
    "#The Above Plot shows the relation between self employed & Loan Status "
   ]
  },
  {
   "cell_type": "code",
   "execution_count": null,
   "id": "c5a5a846",
   "metadata": {},
   "outputs": [],
   "source": []
  },
  {
   "cell_type": "code",
   "execution_count": 70,
   "id": "3ef11559",
   "metadata": {},
   "outputs": [
    {
     "data": {
      "text/plain": [
       "<matplotlib.legend.Legend at 0x29912f887d0>"
      ]
     },
     "execution_count": 70,
     "metadata": {},
     "output_type": "execute_result"
    },
    {
     "data": {
      "image/png": "[encoded data removed]",
      "text/plain": [
       "<Figure size 640x480 with 1 Axes>"
      ]
     },
     "metadata": {},
     "output_type": "display_data"
    }
   ],
   "source": [
    "crosstb1 = pd.crosstab(df1.Education,df1.loan_status)\n",
    "barplot1 = crosstb1.plot.bar(rot=0)\n",
    "barplot1.legend(title='Loan status', bbox_to_anchor=(1, 1.02), loc='upper left')"
   ]
  },
  {
   "cell_type": "code",
   "execution_count": 93,
   "id": "d1612b35",
   "metadata": {},
   "outputs": [],
   "source": [
    "#This above plot shows the relation between education and loan status"
   ]
  },
  {
   "cell_type": "code",
   "execution_count": 72,
   "id": "385e3249",
   "metadata": {},
   "outputs": [
    {
     "data": {
      "image/png": "[encoded data removed]",
      "text/plain": [
       "<Figure size 640x480 with 1 Axes>"
      ]
     },
     "metadata": {},
     "output_type": "display_data"
    }
   ],
   "source": [
    "#Scatter plot for cibil_score and loan_amount\n",
    "plt.scatter(df1['cibil_score'], df1['loan_amount'], c =\"black\")\n",
    "plt.show()"
   ]
  },
  {
   "cell_type": "code",
   "execution_count": 95,
   "id": "dde9242c",
   "metadata": {},
   "outputs": [
    {
     "data": {
      "image/png": "[encoded data removed]",
      "text/plain": [
       "<Figure size 640x480 with 1 Axes>"
      ]
     },
     "metadata": {},
     "output_type": "display_data"
    }
   ],
   "source": [
    "#Scatter plot for loan_status and cibil_score\n",
    "plt.scatter(df1['loan_status'], df1['cibil_score'], c =\"black\")\n",
    "plt.show()"
   ]
  },
  {
   "cell_type": "code",
   "execution_count": 73,
   "id": "7abf4b20",
   "metadata": {},
   "outputs": [
    {
     "data": {
      "image/png": "[encoded data removed]",
      "text/plain": [
       "<Figure size 640x480 with 1 Axes>"
      ]
     },
     "metadata": {},
     "output_type": "display_data"
    }
   ],
   "source": [
    "#Count plot for annual income column\n",
    "sns.countplot(x ='income_annum', data = df1)\n",
    "plt.show()"
   ]
  },
  {
   "cell_type": "code",
   "execution_count": 74,
   "id": "8da02c57",
   "metadata": {},
   "outputs": [
    {
     "data": {
      "image/png": "[encoded data removed]",
      "text/plain": [
       "<Figure size 640x480 with 1 Axes>"
      ]
     },
     "metadata": {},
     "output_type": "display_data"
    }
   ],
   "source": [
    "#Count plot for loan status column\n",
    "sns.countplot(x ='loan_status', data = df1)\n",
    "plt.show()"
   ]
  },
  {
   "cell_type": "code",
   "execution_count": null,
   "id": "599e0c04",
   "metadata": {},
   "outputs": [],
   "source": []
  },
  {
   "cell_type": "code",
   "execution_count": 2,
   "id": "84c4ea69",
   "metadata": {},
   "outputs": [],
   "source": [
    "#plot\n",
    "#rocauc curverAUC ROC stands for “Area Under the Curve” of the “Receiver Operating Characteristic” curve. \n",
    "#The AUC ROC curve is basically a way of measuring the performance of an ML model"
   ]
  },
  {
   "cell_type": "code",
   "execution_count": 102,
   "id": "f946d08e",
   "metadata": {},
   "outputs": [
    {
     "name": "stdout",
     "output_type": "stream",
     "text": [
      "ROC AUC: 0.5037\n"
     ]
    }
   ],
   "source": [
    "# ROC AUC SCORE FOR UNSCALED DATA\n",
    "from sklearn.metrics import roc_auc_score\n",
    "score = roc_auc_score(y_test, y_pred)\n",
    "print(f\"ROC AUC: {score:.4f}\")\n",
    "#this is for Logistic regression"
   ]
  },
  {
   "cell_type": "code",
   "execution_count": 101,
   "id": "5f29bccf",
   "metadata": {},
   "outputs": [
    {
     "name": "stdout",
     "output_type": "stream",
     "text": [
      "ROC AUC: 0.9694\n"
     ]
    }
   ],
   "source": [
    "score = roc_auc_score(y_test, y_pred1)\n",
    "print(f\"ROC AUC: {score:.4f}\")\n",
    "#this is for RANDOM FOREST ALGORITHM"
   ]
  },
  {
   "cell_type": "code",
   "execution_count": 103,
   "id": "cdafc870",
   "metadata": {},
   "outputs": [
    {
     "name": "stdout",
     "output_type": "stream",
     "text": [
      "ROC AUC: 0.9708\n"
     ]
    }
   ],
   "source": [
    "score = roc_auc_score(y_test, y_pred2)\n",
    "print(f\"ROC AUC: {score:.4f}\")\n",
    "#this is for DECISION TREE ALGORITHM"
   ]
  },
  {
   "cell_type": "code",
   "execution_count": 104,
   "id": "51faee17",
   "metadata": {},
   "outputs": [
    {
     "name": "stdout",
     "output_type": "stream",
     "text": [
      "ROC AUC: 0.9043\n"
     ]
    }
   ],
   "source": [
    "# ROC AUC SCORE FOR SCALED DATA\n",
    "score = roc_auc_score(y_testt, y_predd)\n",
    "print(f\"ROC AUC: {score:.4f}\")\n",
    "#this is for Logistic regression"
   ]
  },
  {
   "cell_type": "code",
   "execution_count": 106,
   "id": "b4ade22f",
   "metadata": {},
   "outputs": [
    {
     "name": "stdout",
     "output_type": "stream",
     "text": [
      "ROC AUC: 0.9759\n"
     ]
    }
   ],
   "source": [
    "score = roc_auc_score(y_testt, y_predd1)\n",
    "print(f\"ROC AUC: {score:.4f}\")\n",
    "#this is for RANDOM FOREST ALGORITHM"
   ]
  },
  {
   "cell_type": "code",
   "execution_count": 107,
   "id": "aed2cb3e",
   "metadata": {},
   "outputs": [
    {
     "name": "stdout",
     "output_type": "stream",
     "text": [
      "ROC AUC: 0.9709\n"
     ]
    }
   ],
   "source": [
    "score = roc_auc_score(y_testt, y_predd2)\n",
    "print(f\"ROC AUC: {score:.4f}\")\n",
    "#this is for DECISION TREE ALGORITHM"
   ]
  },
  {
   "cell_type": "code",
   "execution_count": 108,
   "id": "c465a3b6",
   "metadata": {},
   "outputs": [],
   "source": [
    "# CONCLUSION\n",
    "# BASED ON THE ROC AND AUC CURVE, RANDOM FOREST ALGORITHM IS MORE EFFECTIVE FOR THIS DATASET."
   ]
  },
  {
   "cell_type": "code",
   "execution_count": null,
   "id": "9d753cc4",
   "metadata": {},
   "outputs": [],
   "source": []
  }
 ],
 "metadata": {
  "kernelspec": {
   "display_name": "Python 3 (ipykernel)",
   "language": "python",
   "name": "python3"
  },
  "language_info": {
   "codemirror_mode": {
    "name": "ipython",
    "version": 3
   },
   "file_extension": ".py",
   "mimetype": "text/x-python",
   "name": "python",
   "nbconvert_exporter": "python",
   "pygments_lexer": "ipython3",
   "version": "3.11.7"
  }
 },
 "nbformat": 4,
 "nbformat_minor": 5
}
